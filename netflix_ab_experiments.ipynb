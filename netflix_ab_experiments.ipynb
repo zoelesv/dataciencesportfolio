{
 "cells": [
  {
   "cell_type": "code",
   "execution_count": 134,
   "metadata": {},
   "outputs": [],
   "source": [
    "import pandas as pd\n",
    "import matplotlib.pyplot as plt\n",
    "import numpy as np\n",
    "import seaborn as sns\n",
    "import plotly.express as px\n",
    "import statsmodels.formula.api as smf\n",
    "\n",
    "import statsmodels.formula.api as smf\n",
    "from scipy import stats"
   ]
  },
  {
   "cell_type": "code",
   "execution_count": 135,
   "metadata": {},
   "outputs": [
    {
     "data": {
      "text/html": [
       "<div>\n",
       "<style scoped>\n",
       "    .dataframe tbody tr th:only-of-type {\n",
       "        vertical-align: middle;\n",
       "    }\n",
       "\n",
       "    .dataframe tbody tr th {\n",
       "        vertical-align: top;\n",
       "    }\n",
       "\n",
       "    .dataframe thead th {\n",
       "        text-align: right;\n",
       "    }\n",
       "</style>\n",
       "<table border=\"1\" class=\"dataframe\">\n",
       "  <thead>\n",
       "    <tr style=\"text-align: right;\">\n",
       "      <th></th>\n",
       "      <th>Prev.Length</th>\n",
       "      <th>Match.Score</th>\n",
       "      <th>Tile.Size</th>\n",
       "      <th>Prev.Type</th>\n",
       "      <th>Browse.Time</th>\n",
       "    </tr>\n",
       "  </thead>\n",
       "  <tbody>\n",
       "    <tr>\n",
       "      <th>0</th>\n",
       "      <td>30</td>\n",
       "      <td>55</td>\n",
       "      <td>0.4</td>\n",
       "      <td>AC</td>\n",
       "      <td>21.735491</td>\n",
       "    </tr>\n",
       "    <tr>\n",
       "      <th>1</th>\n",
       "      <td>50</td>\n",
       "      <td>65</td>\n",
       "      <td>0.3</td>\n",
       "      <td>AC</td>\n",
       "      <td>19.384134</td>\n",
       "    </tr>\n",
       "    <tr>\n",
       "      <th>2</th>\n",
       "      <td>55</td>\n",
       "      <td>100</td>\n",
       "      <td>0.5</td>\n",
       "      <td>AC</td>\n",
       "      <td>19.690542</td>\n",
       "    </tr>\n",
       "    <tr>\n",
       "      <th>3</th>\n",
       "      <td>60</td>\n",
       "      <td>70</td>\n",
       "      <td>0.1</td>\n",
       "      <td>AC</td>\n",
       "      <td>16.898836</td>\n",
       "    </tr>\n",
       "    <tr>\n",
       "      <th>4</th>\n",
       "      <td>65</td>\n",
       "      <td>30</td>\n",
       "      <td>0.1</td>\n",
       "      <td>TT</td>\n",
       "      <td>19.714132</td>\n",
       "    </tr>\n",
       "    <tr>\n",
       "      <th>5</th>\n",
       "      <td>70</td>\n",
       "      <td>45</td>\n",
       "      <td>0.2</td>\n",
       "      <td>TT</td>\n",
       "      <td>17.745648</td>\n",
       "    </tr>\n",
       "    <tr>\n",
       "      <th>6</th>\n",
       "      <td>75</td>\n",
       "      <td>60</td>\n",
       "      <td>0.4</td>\n",
       "      <td>AC</td>\n",
       "      <td>17.730781</td>\n",
       "    </tr>\n",
       "    <tr>\n",
       "      <th>7</th>\n",
       "      <td>80</td>\n",
       "      <td>85</td>\n",
       "      <td>0.2</td>\n",
       "      <td>AC</td>\n",
       "      <td>17.149231</td>\n",
       "    </tr>\n",
       "    <tr>\n",
       "      <th>8</th>\n",
       "      <td>110</td>\n",
       "      <td>35</td>\n",
       "      <td>0.1</td>\n",
       "      <td>TT</td>\n",
       "      <td>17.785210</td>\n",
       "    </tr>\n",
       "    <tr>\n",
       "      <th>9</th>\n",
       "      <td>120</td>\n",
       "      <td>25</td>\n",
       "      <td>0.1</td>\n",
       "      <td>TT</td>\n",
       "      <td>19.300831</td>\n",
       "    </tr>\n",
       "  </tbody>\n",
       "</table>\n",
       "</div>"
      ],
      "text/plain": [
       "   Prev.Length  Match.Score  Tile.Size Prev.Type  Browse.Time\n",
       "0           30           55        0.4        AC    21.735491\n",
       "1           50           65        0.3        AC    19.384134\n",
       "2           55          100        0.5        AC    19.690542\n",
       "3           60           70        0.1        AC    16.898836\n",
       "4           65           30        0.1        TT    19.714132\n",
       "5           70           45        0.2        TT    17.745648\n",
       "6           75           60        0.4        AC    17.730781\n",
       "7           80           85        0.2        AC    17.149231\n",
       "8          110           35        0.1        TT    17.785210\n",
       "9          120           25        0.1        TT    19.300831"
      ]
     },
     "execution_count": 135,
     "metadata": {},
     "output_type": "execute_result"
    }
   ],
   "source": [
    "data = pd.read_csv(\"firstrun.csv\")\n",
    "\n",
    "mean_browse_time = data.groupby(['Prev.Length', 'Match.Score', 'Tile.Size', 'Prev.Type'])['Browse.Time'].mean().reset_index()\n",
    "mean_browse_time"
   ]
  },
  {
   "cell_type": "code",
   "execution_count": 136,
   "metadata": {},
   "outputs": [
    {
     "name": "stdout",
     "output_type": "stream",
     "text": [
      "<class 'pandas.core.frame.DataFrame'>\n",
      "RangeIndex: 1000 entries, 0 to 999\n",
      "Data columns (total 5 columns):\n",
      " #   Column       Non-Null Count  Dtype  \n",
      "---  ------       --------------  -----  \n",
      " 0   Prev.Length  1000 non-null   int64  \n",
      " 1   Match.Score  1000 non-null   int64  \n",
      " 2   Tile.Size    1000 non-null   float64\n",
      " 3   Prev.Type    1000 non-null   object \n",
      " 4   Browse.Time  1000 non-null   float64\n",
      "dtypes: float64(2), int64(2), object(1)\n",
      "memory usage: 39.2+ KB\n"
     ]
    }
   ],
   "source": [
    "data.info()"
   ]
  },
  {
   "cell_type": "code",
   "execution_count": 137,
   "metadata": {},
   "outputs": [
    {
     "data": {
      "application/vnd.plotly.v1+json": {
       "config": {
        "plotlyServerURL": "https://plot.ly"
       },
       "data": [
        {
         "alignmentgroup": "True",
         "hovertemplate": "Prev.Length=%{x}<br>Browse.Time=%{y}<extra></extra>",
         "legendgroup": "",
         "marker": {
          "color": "#636efa",
          "pattern": {
           "shape": ""
          }
         },
         "name": "",
         "offsetgroup": "",
         "orientation": "v",
         "showlegend": false,
         "textposition": "auto",
         "type": "bar",
         "x": [
          30,
          50,
          55,
          60,
          65,
          70,
          75,
          80,
          110,
          120
         ],
         "xaxis": "x",
         "y": [
          21.735491137946287,
          19.38413378034771,
          19.69054169212004,
          16.898835661035925,
          19.71413226132941,
          17.745648152667837,
          17.73078087241571,
          17.149231452708424,
          17.785209797610346,
          19.300831076845476
         ],
         "yaxis": "y"
        }
       ],
       "layout": {
        "barmode": "relative",
        "legend": {
         "tracegroupgap": 0
        },
        "template": {
         "data": {
          "bar": [
           {
            "error_x": {
             "color": "#2a3f5f"
            },
            "error_y": {
             "color": "#2a3f5f"
            },
            "marker": {
             "line": {
              "color": "#E5ECF6",
              "width": 0.5
             },
             "pattern": {
              "fillmode": "overlay",
              "size": 10,
              "solidity": 0.2
             }
            },
            "type": "bar"
           }
          ],
          "barpolar": [
           {
            "marker": {
             "line": {
              "color": "#E5ECF6",
              "width": 0.5
             },
             "pattern": {
              "fillmode": "overlay",
              "size": 10,
              "solidity": 0.2
             }
            },
            "type": "barpolar"
           }
          ],
          "carpet": [
           {
            "aaxis": {
             "endlinecolor": "#2a3f5f",
             "gridcolor": "white",
             "linecolor": "white",
             "minorgridcolor": "white",
             "startlinecolor": "#2a3f5f"
            },
            "baxis": {
             "endlinecolor": "#2a3f5f",
             "gridcolor": "white",
             "linecolor": "white",
             "minorgridcolor": "white",
             "startlinecolor": "#2a3f5f"
            },
            "type": "carpet"
           }
          ],
          "choropleth": [
           {
            "colorbar": {
             "outlinewidth": 0,
             "ticks": ""
            },
            "type": "choropleth"
           }
          ],
          "contour": [
           {
            "colorbar": {
             "outlinewidth": 0,
             "ticks": ""
            },
            "colorscale": [
             [
              0,
              "#0d0887"
             ],
             [
              0.1111111111111111,
              "#46039f"
             ],
             [
              0.2222222222222222,
              "#7201a8"
             ],
             [
              0.3333333333333333,
              "#9c179e"
             ],
             [
              0.4444444444444444,
              "#bd3786"
             ],
             [
              0.5555555555555556,
              "#d8576b"
             ],
             [
              0.6666666666666666,
              "#ed7953"
             ],
             [
              0.7777777777777778,
              "#fb9f3a"
             ],
             [
              0.8888888888888888,
              "#fdca26"
             ],
             [
              1,
              "#f0f921"
             ]
            ],
            "type": "contour"
           }
          ],
          "contourcarpet": [
           {
            "colorbar": {
             "outlinewidth": 0,
             "ticks": ""
            },
            "type": "contourcarpet"
           }
          ],
          "heatmap": [
           {
            "colorbar": {
             "outlinewidth": 0,
             "ticks": ""
            },
            "colorscale": [
             [
              0,
              "#0d0887"
             ],
             [
              0.1111111111111111,
              "#46039f"
             ],
             [
              0.2222222222222222,
              "#7201a8"
             ],
             [
              0.3333333333333333,
              "#9c179e"
             ],
             [
              0.4444444444444444,
              "#bd3786"
             ],
             [
              0.5555555555555556,
              "#d8576b"
             ],
             [
              0.6666666666666666,
              "#ed7953"
             ],
             [
              0.7777777777777778,
              "#fb9f3a"
             ],
             [
              0.8888888888888888,
              "#fdca26"
             ],
             [
              1,
              "#f0f921"
             ]
            ],
            "type": "heatmap"
           }
          ],
          "heatmapgl": [
           {
            "colorbar": {
             "outlinewidth": 0,
             "ticks": ""
            },
            "colorscale": [
             [
              0,
              "#0d0887"
             ],
             [
              0.1111111111111111,
              "#46039f"
             ],
             [
              0.2222222222222222,
              "#7201a8"
             ],
             [
              0.3333333333333333,
              "#9c179e"
             ],
             [
              0.4444444444444444,
              "#bd3786"
             ],
             [
              0.5555555555555556,
              "#d8576b"
             ],
             [
              0.6666666666666666,
              "#ed7953"
             ],
             [
              0.7777777777777778,
              "#fb9f3a"
             ],
             [
              0.8888888888888888,
              "#fdca26"
             ],
             [
              1,
              "#f0f921"
             ]
            ],
            "type": "heatmapgl"
           }
          ],
          "histogram": [
           {
            "marker": {
             "pattern": {
              "fillmode": "overlay",
              "size": 10,
              "solidity": 0.2
             }
            },
            "type": "histogram"
           }
          ],
          "histogram2d": [
           {
            "colorbar": {
             "outlinewidth": 0,
             "ticks": ""
            },
            "colorscale": [
             [
              0,
              "#0d0887"
             ],
             [
              0.1111111111111111,
              "#46039f"
             ],
             [
              0.2222222222222222,
              "#7201a8"
             ],
             [
              0.3333333333333333,
              "#9c179e"
             ],
             [
              0.4444444444444444,
              "#bd3786"
             ],
             [
              0.5555555555555556,
              "#d8576b"
             ],
             [
              0.6666666666666666,
              "#ed7953"
             ],
             [
              0.7777777777777778,
              "#fb9f3a"
             ],
             [
              0.8888888888888888,
              "#fdca26"
             ],
             [
              1,
              "#f0f921"
             ]
            ],
            "type": "histogram2d"
           }
          ],
          "histogram2dcontour": [
           {
            "colorbar": {
             "outlinewidth": 0,
             "ticks": ""
            },
            "colorscale": [
             [
              0,
              "#0d0887"
             ],
             [
              0.1111111111111111,
              "#46039f"
             ],
             [
              0.2222222222222222,
              "#7201a8"
             ],
             [
              0.3333333333333333,
              "#9c179e"
             ],
             [
              0.4444444444444444,
              "#bd3786"
             ],
             [
              0.5555555555555556,
              "#d8576b"
             ],
             [
              0.6666666666666666,
              "#ed7953"
             ],
             [
              0.7777777777777778,
              "#fb9f3a"
             ],
             [
              0.8888888888888888,
              "#fdca26"
             ],
             [
              1,
              "#f0f921"
             ]
            ],
            "type": "histogram2dcontour"
           }
          ],
          "mesh3d": [
           {
            "colorbar": {
             "outlinewidth": 0,
             "ticks": ""
            },
            "type": "mesh3d"
           }
          ],
          "parcoords": [
           {
            "line": {
             "colorbar": {
              "outlinewidth": 0,
              "ticks": ""
             }
            },
            "type": "parcoords"
           }
          ],
          "pie": [
           {
            "automargin": true,
            "type": "pie"
           }
          ],
          "scatter": [
           {
            "fillpattern": {
             "fillmode": "overlay",
             "size": 10,
             "solidity": 0.2
            },
            "type": "scatter"
           }
          ],
          "scatter3d": [
           {
            "line": {
             "colorbar": {
              "outlinewidth": 0,
              "ticks": ""
             }
            },
            "marker": {
             "colorbar": {
              "outlinewidth": 0,
              "ticks": ""
             }
            },
            "type": "scatter3d"
           }
          ],
          "scattercarpet": [
           {
            "marker": {
             "colorbar": {
              "outlinewidth": 0,
              "ticks": ""
             }
            },
            "type": "scattercarpet"
           }
          ],
          "scattergeo": [
           {
            "marker": {
             "colorbar": {
              "outlinewidth": 0,
              "ticks": ""
             }
            },
            "type": "scattergeo"
           }
          ],
          "scattergl": [
           {
            "marker": {
             "colorbar": {
              "outlinewidth": 0,
              "ticks": ""
             }
            },
            "type": "scattergl"
           }
          ],
          "scattermapbox": [
           {
            "marker": {
             "colorbar": {
              "outlinewidth": 0,
              "ticks": ""
             }
            },
            "type": "scattermapbox"
           }
          ],
          "scatterpolar": [
           {
            "marker": {
             "colorbar": {
              "outlinewidth": 0,
              "ticks": ""
             }
            },
            "type": "scatterpolar"
           }
          ],
          "scatterpolargl": [
           {
            "marker": {
             "colorbar": {
              "outlinewidth": 0,
              "ticks": ""
             }
            },
            "type": "scatterpolargl"
           }
          ],
          "scatterternary": [
           {
            "marker": {
             "colorbar": {
              "outlinewidth": 0,
              "ticks": ""
             }
            },
            "type": "scatterternary"
           }
          ],
          "surface": [
           {
            "colorbar": {
             "outlinewidth": 0,
             "ticks": ""
            },
            "colorscale": [
             [
              0,
              "#0d0887"
             ],
             [
              0.1111111111111111,
              "#46039f"
             ],
             [
              0.2222222222222222,
              "#7201a8"
             ],
             [
              0.3333333333333333,
              "#9c179e"
             ],
             [
              0.4444444444444444,
              "#bd3786"
             ],
             [
              0.5555555555555556,
              "#d8576b"
             ],
             [
              0.6666666666666666,
              "#ed7953"
             ],
             [
              0.7777777777777778,
              "#fb9f3a"
             ],
             [
              0.8888888888888888,
              "#fdca26"
             ],
             [
              1,
              "#f0f921"
             ]
            ],
            "type": "surface"
           }
          ],
          "table": [
           {
            "cells": {
             "fill": {
              "color": "#EBF0F8"
             },
             "line": {
              "color": "white"
             }
            },
            "header": {
             "fill": {
              "color": "#C8D4E3"
             },
             "line": {
              "color": "white"
             }
            },
            "type": "table"
           }
          ]
         },
         "layout": {
          "annotationdefaults": {
           "arrowcolor": "#2a3f5f",
           "arrowhead": 0,
           "arrowwidth": 1
          },
          "autotypenumbers": "strict",
          "coloraxis": {
           "colorbar": {
            "outlinewidth": 0,
            "ticks": ""
           }
          },
          "colorscale": {
           "diverging": [
            [
             0,
             "#8e0152"
            ],
            [
             0.1,
             "#c51b7d"
            ],
            [
             0.2,
             "#de77ae"
            ],
            [
             0.3,
             "#f1b6da"
            ],
            [
             0.4,
             "#fde0ef"
            ],
            [
             0.5,
             "#f7f7f7"
            ],
            [
             0.6,
             "#e6f5d0"
            ],
            [
             0.7,
             "#b8e186"
            ],
            [
             0.8,
             "#7fbc41"
            ],
            [
             0.9,
             "#4d9221"
            ],
            [
             1,
             "#276419"
            ]
           ],
           "sequential": [
            [
             0,
             "#0d0887"
            ],
            [
             0.1111111111111111,
             "#46039f"
            ],
            [
             0.2222222222222222,
             "#7201a8"
            ],
            [
             0.3333333333333333,
             "#9c179e"
            ],
            [
             0.4444444444444444,
             "#bd3786"
            ],
            [
             0.5555555555555556,
             "#d8576b"
            ],
            [
             0.6666666666666666,
             "#ed7953"
            ],
            [
             0.7777777777777778,
             "#fb9f3a"
            ],
            [
             0.8888888888888888,
             "#fdca26"
            ],
            [
             1,
             "#f0f921"
            ]
           ],
           "sequentialminus": [
            [
             0,
             "#0d0887"
            ],
            [
             0.1111111111111111,
             "#46039f"
            ],
            [
             0.2222222222222222,
             "#7201a8"
            ],
            [
             0.3333333333333333,
             "#9c179e"
            ],
            [
             0.4444444444444444,
             "#bd3786"
            ],
            [
             0.5555555555555556,
             "#d8576b"
            ],
            [
             0.6666666666666666,
             "#ed7953"
            ],
            [
             0.7777777777777778,
             "#fb9f3a"
            ],
            [
             0.8888888888888888,
             "#fdca26"
            ],
            [
             1,
             "#f0f921"
            ]
           ]
          },
          "colorway": [
           "#636efa",
           "#EF553B",
           "#00cc96",
           "#ab63fa",
           "#FFA15A",
           "#19d3f3",
           "#FF6692",
           "#B6E880",
           "#FF97FF",
           "#FECB52"
          ],
          "font": {
           "color": "#2a3f5f"
          },
          "geo": {
           "bgcolor": "white",
           "lakecolor": "white",
           "landcolor": "#E5ECF6",
           "showlakes": true,
           "showland": true,
           "subunitcolor": "white"
          },
          "hoverlabel": {
           "align": "left"
          },
          "hovermode": "closest",
          "mapbox": {
           "style": "light"
          },
          "paper_bgcolor": "white",
          "plot_bgcolor": "#E5ECF6",
          "polar": {
           "angularaxis": {
            "gridcolor": "white",
            "linecolor": "white",
            "ticks": ""
           },
           "bgcolor": "#E5ECF6",
           "radialaxis": {
            "gridcolor": "white",
            "linecolor": "white",
            "ticks": ""
           }
          },
          "scene": {
           "xaxis": {
            "backgroundcolor": "#E5ECF6",
            "gridcolor": "white",
            "gridwidth": 2,
            "linecolor": "white",
            "showbackground": true,
            "ticks": "",
            "zerolinecolor": "white"
           },
           "yaxis": {
            "backgroundcolor": "#E5ECF6",
            "gridcolor": "white",
            "gridwidth": 2,
            "linecolor": "white",
            "showbackground": true,
            "ticks": "",
            "zerolinecolor": "white"
           },
           "zaxis": {
            "backgroundcolor": "#E5ECF6",
            "gridcolor": "white",
            "gridwidth": 2,
            "linecolor": "white",
            "showbackground": true,
            "ticks": "",
            "zerolinecolor": "white"
           }
          },
          "shapedefaults": {
           "line": {
            "color": "#2a3f5f"
           }
          },
          "ternary": {
           "aaxis": {
            "gridcolor": "white",
            "linecolor": "white",
            "ticks": ""
           },
           "baxis": {
            "gridcolor": "white",
            "linecolor": "white",
            "ticks": ""
           },
           "bgcolor": "#E5ECF6",
           "caxis": {
            "gridcolor": "white",
            "linecolor": "white",
            "ticks": ""
           }
          },
          "title": {
           "x": 0.05
          },
          "xaxis": {
           "automargin": true,
           "gridcolor": "white",
           "linecolor": "white",
           "ticks": "",
           "title": {
            "standoff": 15
           },
           "zerolinecolor": "white",
           "zerolinewidth": 2
          },
          "yaxis": {
           "automargin": true,
           "gridcolor": "white",
           "linecolor": "white",
           "ticks": "",
           "title": {
            "standoff": 15
           },
           "zerolinecolor": "white",
           "zerolinewidth": 2
          }
         }
        },
        "title": {
         "text": "Average Browsing Time vs Previous Length"
        },
        "xaxis": {
         "anchor": "y",
         "domain": [
          0,
          1
         ],
         "title": {
          "text": "Prev.Length"
         }
        },
        "yaxis": {
         "anchor": "x",
         "domain": [
          0,
          1
         ],
         "title": {
          "text": "Browse.Time"
         }
        }
       }
      }
     },
     "metadata": {},
     "output_type": "display_data"
    },
    {
     "data": {
      "application/vnd.plotly.v1+json": {
       "config": {
        "plotlyServerURL": "https://plot.ly"
       },
       "data": [
        {
         "alignmentgroup": "True",
         "hovertemplate": "Match.Score=%{x}<br>Browse.Time=%{y}<extra></extra>",
         "legendgroup": "",
         "marker": {
          "color": "#636efa",
          "pattern": {
           "shape": ""
          }
         },
         "name": "",
         "offsetgroup": "",
         "orientation": "v",
         "showlegend": false,
         "textposition": "auto",
         "type": "bar",
         "x": [
          55,
          65,
          100,
          70,
          30,
          45,
          60,
          85,
          35,
          25
         ],
         "xaxis": "x",
         "y": [
          21.735491137946287,
          19.38413378034771,
          19.69054169212004,
          16.898835661035925,
          19.71413226132941,
          17.745648152667837,
          17.73078087241571,
          17.149231452708424,
          17.785209797610346,
          19.300831076845476
         ],
         "yaxis": "y"
        }
       ],
       "layout": {
        "barmode": "relative",
        "legend": {
         "tracegroupgap": 0
        },
        "template": {
         "data": {
          "bar": [
           {
            "error_x": {
             "color": "#2a3f5f"
            },
            "error_y": {
             "color": "#2a3f5f"
            },
            "marker": {
             "line": {
              "color": "#E5ECF6",
              "width": 0.5
             },
             "pattern": {
              "fillmode": "overlay",
              "size": 10,
              "solidity": 0.2
             }
            },
            "type": "bar"
           }
          ],
          "barpolar": [
           {
            "marker": {
             "line": {
              "color": "#E5ECF6",
              "width": 0.5
             },
             "pattern": {
              "fillmode": "overlay",
              "size": 10,
              "solidity": 0.2
             }
            },
            "type": "barpolar"
           }
          ],
          "carpet": [
           {
            "aaxis": {
             "endlinecolor": "#2a3f5f",
             "gridcolor": "white",
             "linecolor": "white",
             "minorgridcolor": "white",
             "startlinecolor": "#2a3f5f"
            },
            "baxis": {
             "endlinecolor": "#2a3f5f",
             "gridcolor": "white",
             "linecolor": "white",
             "minorgridcolor": "white",
             "startlinecolor": "#2a3f5f"
            },
            "type": "carpet"
           }
          ],
          "choropleth": [
           {
            "colorbar": {
             "outlinewidth": 0,
             "ticks": ""
            },
            "type": "choropleth"
           }
          ],
          "contour": [
           {
            "colorbar": {
             "outlinewidth": 0,
             "ticks": ""
            },
            "colorscale": [
             [
              0,
              "#0d0887"
             ],
             [
              0.1111111111111111,
              "#46039f"
             ],
             [
              0.2222222222222222,
              "#7201a8"
             ],
             [
              0.3333333333333333,
              "#9c179e"
             ],
             [
              0.4444444444444444,
              "#bd3786"
             ],
             [
              0.5555555555555556,
              "#d8576b"
             ],
             [
              0.6666666666666666,
              "#ed7953"
             ],
             [
              0.7777777777777778,
              "#fb9f3a"
             ],
             [
              0.8888888888888888,
              "#fdca26"
             ],
             [
              1,
              "#f0f921"
             ]
            ],
            "type": "contour"
           }
          ],
          "contourcarpet": [
           {
            "colorbar": {
             "outlinewidth": 0,
             "ticks": ""
            },
            "type": "contourcarpet"
           }
          ],
          "heatmap": [
           {
            "colorbar": {
             "outlinewidth": 0,
             "ticks": ""
            },
            "colorscale": [
             [
              0,
              "#0d0887"
             ],
             [
              0.1111111111111111,
              "#46039f"
             ],
             [
              0.2222222222222222,
              "#7201a8"
             ],
             [
              0.3333333333333333,
              "#9c179e"
             ],
             [
              0.4444444444444444,
              "#bd3786"
             ],
             [
              0.5555555555555556,
              "#d8576b"
             ],
             [
              0.6666666666666666,
              "#ed7953"
             ],
             [
              0.7777777777777778,
              "#fb9f3a"
             ],
             [
              0.8888888888888888,
              "#fdca26"
             ],
             [
              1,
              "#f0f921"
             ]
            ],
            "type": "heatmap"
           }
          ],
          "heatmapgl": [
           {
            "colorbar": {
             "outlinewidth": 0,
             "ticks": ""
            },
            "colorscale": [
             [
              0,
              "#0d0887"
             ],
             [
              0.1111111111111111,
              "#46039f"
             ],
             [
              0.2222222222222222,
              "#7201a8"
             ],
             [
              0.3333333333333333,
              "#9c179e"
             ],
             [
              0.4444444444444444,
              "#bd3786"
             ],
             [
              0.5555555555555556,
              "#d8576b"
             ],
             [
              0.6666666666666666,
              "#ed7953"
             ],
             [
              0.7777777777777778,
              "#fb9f3a"
             ],
             [
              0.8888888888888888,
              "#fdca26"
             ],
             [
              1,
              "#f0f921"
             ]
            ],
            "type": "heatmapgl"
           }
          ],
          "histogram": [
           {
            "marker": {
             "pattern": {
              "fillmode": "overlay",
              "size": 10,
              "solidity": 0.2
             }
            },
            "type": "histogram"
           }
          ],
          "histogram2d": [
           {
            "colorbar": {
             "outlinewidth": 0,
             "ticks": ""
            },
            "colorscale": [
             [
              0,
              "#0d0887"
             ],
             [
              0.1111111111111111,
              "#46039f"
             ],
             [
              0.2222222222222222,
              "#7201a8"
             ],
             [
              0.3333333333333333,
              "#9c179e"
             ],
             [
              0.4444444444444444,
              "#bd3786"
             ],
             [
              0.5555555555555556,
              "#d8576b"
             ],
             [
              0.6666666666666666,
              "#ed7953"
             ],
             [
              0.7777777777777778,
              "#fb9f3a"
             ],
             [
              0.8888888888888888,
              "#fdca26"
             ],
             [
              1,
              "#f0f921"
             ]
            ],
            "type": "histogram2d"
           }
          ],
          "histogram2dcontour": [
           {
            "colorbar": {
             "outlinewidth": 0,
             "ticks": ""
            },
            "colorscale": [
             [
              0,
              "#0d0887"
             ],
             [
              0.1111111111111111,
              "#46039f"
             ],
             [
              0.2222222222222222,
              "#7201a8"
             ],
             [
              0.3333333333333333,
              "#9c179e"
             ],
             [
              0.4444444444444444,
              "#bd3786"
             ],
             [
              0.5555555555555556,
              "#d8576b"
             ],
             [
              0.6666666666666666,
              "#ed7953"
             ],
             [
              0.7777777777777778,
              "#fb9f3a"
             ],
             [
              0.8888888888888888,
              "#fdca26"
             ],
             [
              1,
              "#f0f921"
             ]
            ],
            "type": "histogram2dcontour"
           }
          ],
          "mesh3d": [
           {
            "colorbar": {
             "outlinewidth": 0,
             "ticks": ""
            },
            "type": "mesh3d"
           }
          ],
          "parcoords": [
           {
            "line": {
             "colorbar": {
              "outlinewidth": 0,
              "ticks": ""
             }
            },
            "type": "parcoords"
           }
          ],
          "pie": [
           {
            "automargin": true,
            "type": "pie"
           }
          ],
          "scatter": [
           {
            "fillpattern": {
             "fillmode": "overlay",
             "size": 10,
             "solidity": 0.2
            },
            "type": "scatter"
           }
          ],
          "scatter3d": [
           {
            "line": {
             "colorbar": {
              "outlinewidth": 0,
              "ticks": ""
             }
            },
            "marker": {
             "colorbar": {
              "outlinewidth": 0,
              "ticks": ""
             }
            },
            "type": "scatter3d"
           }
          ],
          "scattercarpet": [
           {
            "marker": {
             "colorbar": {
              "outlinewidth": 0,
              "ticks": ""
             }
            },
            "type": "scattercarpet"
           }
          ],
          "scattergeo": [
           {
            "marker": {
             "colorbar": {
              "outlinewidth": 0,
              "ticks": ""
             }
            },
            "type": "scattergeo"
           }
          ],
          "scattergl": [
           {
            "marker": {
             "colorbar": {
              "outlinewidth": 0,
              "ticks": ""
             }
            },
            "type": "scattergl"
           }
          ],
          "scattermapbox": [
           {
            "marker": {
             "colorbar": {
              "outlinewidth": 0,
              "ticks": ""
             }
            },
            "type": "scattermapbox"
           }
          ],
          "scatterpolar": [
           {
            "marker": {
             "colorbar": {
              "outlinewidth": 0,
              "ticks": ""
             }
            },
            "type": "scatterpolar"
           }
          ],
          "scatterpolargl": [
           {
            "marker": {
             "colorbar": {
              "outlinewidth": 0,
              "ticks": ""
             }
            },
            "type": "scatterpolargl"
           }
          ],
          "scatterternary": [
           {
            "marker": {
             "colorbar": {
              "outlinewidth": 0,
              "ticks": ""
             }
            },
            "type": "scatterternary"
           }
          ],
          "surface": [
           {
            "colorbar": {
             "outlinewidth": 0,
             "ticks": ""
            },
            "colorscale": [
             [
              0,
              "#0d0887"
             ],
             [
              0.1111111111111111,
              "#46039f"
             ],
             [
              0.2222222222222222,
              "#7201a8"
             ],
             [
              0.3333333333333333,
              "#9c179e"
             ],
             [
              0.4444444444444444,
              "#bd3786"
             ],
             [
              0.5555555555555556,
              "#d8576b"
             ],
             [
              0.6666666666666666,
              "#ed7953"
             ],
             [
              0.7777777777777778,
              "#fb9f3a"
             ],
             [
              0.8888888888888888,
              "#fdca26"
             ],
             [
              1,
              "#f0f921"
             ]
            ],
            "type": "surface"
           }
          ],
          "table": [
           {
            "cells": {
             "fill": {
              "color": "#EBF0F8"
             },
             "line": {
              "color": "white"
             }
            },
            "header": {
             "fill": {
              "color": "#C8D4E3"
             },
             "line": {
              "color": "white"
             }
            },
            "type": "table"
           }
          ]
         },
         "layout": {
          "annotationdefaults": {
           "arrowcolor": "#2a3f5f",
           "arrowhead": 0,
           "arrowwidth": 1
          },
          "autotypenumbers": "strict",
          "coloraxis": {
           "colorbar": {
            "outlinewidth": 0,
            "ticks": ""
           }
          },
          "colorscale": {
           "diverging": [
            [
             0,
             "#8e0152"
            ],
            [
             0.1,
             "#c51b7d"
            ],
            [
             0.2,
             "#de77ae"
            ],
            [
             0.3,
             "#f1b6da"
            ],
            [
             0.4,
             "#fde0ef"
            ],
            [
             0.5,
             "#f7f7f7"
            ],
            [
             0.6,
             "#e6f5d0"
            ],
            [
             0.7,
             "#b8e186"
            ],
            [
             0.8,
             "#7fbc41"
            ],
            [
             0.9,
             "#4d9221"
            ],
            [
             1,
             "#276419"
            ]
           ],
           "sequential": [
            [
             0,
             "#0d0887"
            ],
            [
             0.1111111111111111,
             "#46039f"
            ],
            [
             0.2222222222222222,
             "#7201a8"
            ],
            [
             0.3333333333333333,
             "#9c179e"
            ],
            [
             0.4444444444444444,
             "#bd3786"
            ],
            [
             0.5555555555555556,
             "#d8576b"
            ],
            [
             0.6666666666666666,
             "#ed7953"
            ],
            [
             0.7777777777777778,
             "#fb9f3a"
            ],
            [
             0.8888888888888888,
             "#fdca26"
            ],
            [
             1,
             "#f0f921"
            ]
           ],
           "sequentialminus": [
            [
             0,
             "#0d0887"
            ],
            [
             0.1111111111111111,
             "#46039f"
            ],
            [
             0.2222222222222222,
             "#7201a8"
            ],
            [
             0.3333333333333333,
             "#9c179e"
            ],
            [
             0.4444444444444444,
             "#bd3786"
            ],
            [
             0.5555555555555556,
             "#d8576b"
            ],
            [
             0.6666666666666666,
             "#ed7953"
            ],
            [
             0.7777777777777778,
             "#fb9f3a"
            ],
            [
             0.8888888888888888,
             "#fdca26"
            ],
            [
             1,
             "#f0f921"
            ]
           ]
          },
          "colorway": [
           "#636efa",
           "#EF553B",
           "#00cc96",
           "#ab63fa",
           "#FFA15A",
           "#19d3f3",
           "#FF6692",
           "#B6E880",
           "#FF97FF",
           "#FECB52"
          ],
          "font": {
           "color": "#2a3f5f"
          },
          "geo": {
           "bgcolor": "white",
           "lakecolor": "white",
           "landcolor": "#E5ECF6",
           "showlakes": true,
           "showland": true,
           "subunitcolor": "white"
          },
          "hoverlabel": {
           "align": "left"
          },
          "hovermode": "closest",
          "mapbox": {
           "style": "light"
          },
          "paper_bgcolor": "white",
          "plot_bgcolor": "#E5ECF6",
          "polar": {
           "angularaxis": {
            "gridcolor": "white",
            "linecolor": "white",
            "ticks": ""
           },
           "bgcolor": "#E5ECF6",
           "radialaxis": {
            "gridcolor": "white",
            "linecolor": "white",
            "ticks": ""
           }
          },
          "scene": {
           "xaxis": {
            "backgroundcolor": "#E5ECF6",
            "gridcolor": "white",
            "gridwidth": 2,
            "linecolor": "white",
            "showbackground": true,
            "ticks": "",
            "zerolinecolor": "white"
           },
           "yaxis": {
            "backgroundcolor": "#E5ECF6",
            "gridcolor": "white",
            "gridwidth": 2,
            "linecolor": "white",
            "showbackground": true,
            "ticks": "",
            "zerolinecolor": "white"
           },
           "zaxis": {
            "backgroundcolor": "#E5ECF6",
            "gridcolor": "white",
            "gridwidth": 2,
            "linecolor": "white",
            "showbackground": true,
            "ticks": "",
            "zerolinecolor": "white"
           }
          },
          "shapedefaults": {
           "line": {
            "color": "#2a3f5f"
           }
          },
          "ternary": {
           "aaxis": {
            "gridcolor": "white",
            "linecolor": "white",
            "ticks": ""
           },
           "baxis": {
            "gridcolor": "white",
            "linecolor": "white",
            "ticks": ""
           },
           "bgcolor": "#E5ECF6",
           "caxis": {
            "gridcolor": "white",
            "linecolor": "white",
            "ticks": ""
           }
          },
          "title": {
           "x": 0.05
          },
          "xaxis": {
           "automargin": true,
           "gridcolor": "white",
           "linecolor": "white",
           "ticks": "",
           "title": {
            "standoff": 15
           },
           "zerolinecolor": "white",
           "zerolinewidth": 2
          },
          "yaxis": {
           "automargin": true,
           "gridcolor": "white",
           "linecolor": "white",
           "ticks": "",
           "title": {
            "standoff": 15
           },
           "zerolinecolor": "white",
           "zerolinewidth": 2
          }
         }
        },
        "title": {
         "text": "Browse Time vs Match Score"
        },
        "xaxis": {
         "anchor": "y",
         "domain": [
          0,
          1
         ],
         "title": {
          "text": "Match.Score"
         }
        },
        "yaxis": {
         "anchor": "x",
         "domain": [
          0,
          1
         ],
         "title": {
          "text": "Browse.Time"
         }
        }
       }
      }
     },
     "metadata": {},
     "output_type": "display_data"
    },
    {
     "data": {
      "application/vnd.plotly.v1+json": {
       "config": {
        "plotlyServerURL": "https://plot.ly"
       },
       "data": [
        {
         "alignmentgroup": "True",
         "hovertemplate": "Tile.Size=%{x}<br>Browse.Time=%{y}<extra></extra>",
         "legendgroup": "",
         "marker": {
          "color": "#636efa",
          "pattern": {
           "shape": ""
          }
         },
         "name": "",
         "offsetgroup": "",
         "orientation": "v",
         "showlegend": false,
         "textposition": "auto",
         "type": "bar",
         "x": [
          0.4,
          0.3,
          0.5,
          0.1,
          0.1,
          0.2,
          0.4,
          0.2,
          0.1,
          0.1
         ],
         "xaxis": "x",
         "y": [
          21.735491137946287,
          19.38413378034771,
          19.69054169212004,
          16.898835661035925,
          19.71413226132941,
          17.745648152667837,
          17.73078087241571,
          17.149231452708424,
          17.785209797610346,
          19.300831076845476
         ],
         "yaxis": "y"
        }
       ],
       "layout": {
        "barmode": "relative",
        "legend": {
         "tracegroupgap": 0
        },
        "template": {
         "data": {
          "bar": [
           {
            "error_x": {
             "color": "#2a3f5f"
            },
            "error_y": {
             "color": "#2a3f5f"
            },
            "marker": {
             "line": {
              "color": "#E5ECF6",
              "width": 0.5
             },
             "pattern": {
              "fillmode": "overlay",
              "size": 10,
              "solidity": 0.2
             }
            },
            "type": "bar"
           }
          ],
          "barpolar": [
           {
            "marker": {
             "line": {
              "color": "#E5ECF6",
              "width": 0.5
             },
             "pattern": {
              "fillmode": "overlay",
              "size": 10,
              "solidity": 0.2
             }
            },
            "type": "barpolar"
           }
          ],
          "carpet": [
           {
            "aaxis": {
             "endlinecolor": "#2a3f5f",
             "gridcolor": "white",
             "linecolor": "white",
             "minorgridcolor": "white",
             "startlinecolor": "#2a3f5f"
            },
            "baxis": {
             "endlinecolor": "#2a3f5f",
             "gridcolor": "white",
             "linecolor": "white",
             "minorgridcolor": "white",
             "startlinecolor": "#2a3f5f"
            },
            "type": "carpet"
           }
          ],
          "choropleth": [
           {
            "colorbar": {
             "outlinewidth": 0,
             "ticks": ""
            },
            "type": "choropleth"
           }
          ],
          "contour": [
           {
            "colorbar": {
             "outlinewidth": 0,
             "ticks": ""
            },
            "colorscale": [
             [
              0,
              "#0d0887"
             ],
             [
              0.1111111111111111,
              "#46039f"
             ],
             [
              0.2222222222222222,
              "#7201a8"
             ],
             [
              0.3333333333333333,
              "#9c179e"
             ],
             [
              0.4444444444444444,
              "#bd3786"
             ],
             [
              0.5555555555555556,
              "#d8576b"
             ],
             [
              0.6666666666666666,
              "#ed7953"
             ],
             [
              0.7777777777777778,
              "#fb9f3a"
             ],
             [
              0.8888888888888888,
              "#fdca26"
             ],
             [
              1,
              "#f0f921"
             ]
            ],
            "type": "contour"
           }
          ],
          "contourcarpet": [
           {
            "colorbar": {
             "outlinewidth": 0,
             "ticks": ""
            },
            "type": "contourcarpet"
           }
          ],
          "heatmap": [
           {
            "colorbar": {
             "outlinewidth": 0,
             "ticks": ""
            },
            "colorscale": [
             [
              0,
              "#0d0887"
             ],
             [
              0.1111111111111111,
              "#46039f"
             ],
             [
              0.2222222222222222,
              "#7201a8"
             ],
             [
              0.3333333333333333,
              "#9c179e"
             ],
             [
              0.4444444444444444,
              "#bd3786"
             ],
             [
              0.5555555555555556,
              "#d8576b"
             ],
             [
              0.6666666666666666,
              "#ed7953"
             ],
             [
              0.7777777777777778,
              "#fb9f3a"
             ],
             [
              0.8888888888888888,
              "#fdca26"
             ],
             [
              1,
              "#f0f921"
             ]
            ],
            "type": "heatmap"
           }
          ],
          "heatmapgl": [
           {
            "colorbar": {
             "outlinewidth": 0,
             "ticks": ""
            },
            "colorscale": [
             [
              0,
              "#0d0887"
             ],
             [
              0.1111111111111111,
              "#46039f"
             ],
             [
              0.2222222222222222,
              "#7201a8"
             ],
             [
              0.3333333333333333,
              "#9c179e"
             ],
             [
              0.4444444444444444,
              "#bd3786"
             ],
             [
              0.5555555555555556,
              "#d8576b"
             ],
             [
              0.6666666666666666,
              "#ed7953"
             ],
             [
              0.7777777777777778,
              "#fb9f3a"
             ],
             [
              0.8888888888888888,
              "#fdca26"
             ],
             [
              1,
              "#f0f921"
             ]
            ],
            "type": "heatmapgl"
           }
          ],
          "histogram": [
           {
            "marker": {
             "pattern": {
              "fillmode": "overlay",
              "size": 10,
              "solidity": 0.2
             }
            },
            "type": "histogram"
           }
          ],
          "histogram2d": [
           {
            "colorbar": {
             "outlinewidth": 0,
             "ticks": ""
            },
            "colorscale": [
             [
              0,
              "#0d0887"
             ],
             [
              0.1111111111111111,
              "#46039f"
             ],
             [
              0.2222222222222222,
              "#7201a8"
             ],
             [
              0.3333333333333333,
              "#9c179e"
             ],
             [
              0.4444444444444444,
              "#bd3786"
             ],
             [
              0.5555555555555556,
              "#d8576b"
             ],
             [
              0.6666666666666666,
              "#ed7953"
             ],
             [
              0.7777777777777778,
              "#fb9f3a"
             ],
             [
              0.8888888888888888,
              "#fdca26"
             ],
             [
              1,
              "#f0f921"
             ]
            ],
            "type": "histogram2d"
           }
          ],
          "histogram2dcontour": [
           {
            "colorbar": {
             "outlinewidth": 0,
             "ticks": ""
            },
            "colorscale": [
             [
              0,
              "#0d0887"
             ],
             [
              0.1111111111111111,
              "#46039f"
             ],
             [
              0.2222222222222222,
              "#7201a8"
             ],
             [
              0.3333333333333333,
              "#9c179e"
             ],
             [
              0.4444444444444444,
              "#bd3786"
             ],
             [
              0.5555555555555556,
              "#d8576b"
             ],
             [
              0.6666666666666666,
              "#ed7953"
             ],
             [
              0.7777777777777778,
              "#fb9f3a"
             ],
             [
              0.8888888888888888,
              "#fdca26"
             ],
             [
              1,
              "#f0f921"
             ]
            ],
            "type": "histogram2dcontour"
           }
          ],
          "mesh3d": [
           {
            "colorbar": {
             "outlinewidth": 0,
             "ticks": ""
            },
            "type": "mesh3d"
           }
          ],
          "parcoords": [
           {
            "line": {
             "colorbar": {
              "outlinewidth": 0,
              "ticks": ""
             }
            },
            "type": "parcoords"
           }
          ],
          "pie": [
           {
            "automargin": true,
            "type": "pie"
           }
          ],
          "scatter": [
           {
            "fillpattern": {
             "fillmode": "overlay",
             "size": 10,
             "solidity": 0.2
            },
            "type": "scatter"
           }
          ],
          "scatter3d": [
           {
            "line": {
             "colorbar": {
              "outlinewidth": 0,
              "ticks": ""
             }
            },
            "marker": {
             "colorbar": {
              "outlinewidth": 0,
              "ticks": ""
             }
            },
            "type": "scatter3d"
           }
          ],
          "scattercarpet": [
           {
            "marker": {
             "colorbar": {
              "outlinewidth": 0,
              "ticks": ""
             }
            },
            "type": "scattercarpet"
           }
          ],
          "scattergeo": [
           {
            "marker": {
             "colorbar": {
              "outlinewidth": 0,
              "ticks": ""
             }
            },
            "type": "scattergeo"
           }
          ],
          "scattergl": [
           {
            "marker": {
             "colorbar": {
              "outlinewidth": 0,
              "ticks": ""
             }
            },
            "type": "scattergl"
           }
          ],
          "scattermapbox": [
           {
            "marker": {
             "colorbar": {
              "outlinewidth": 0,
              "ticks": ""
             }
            },
            "type": "scattermapbox"
           }
          ],
          "scatterpolar": [
           {
            "marker": {
             "colorbar": {
              "outlinewidth": 0,
              "ticks": ""
             }
            },
            "type": "scatterpolar"
           }
          ],
          "scatterpolargl": [
           {
            "marker": {
             "colorbar": {
              "outlinewidth": 0,
              "ticks": ""
             }
            },
            "type": "scatterpolargl"
           }
          ],
          "scatterternary": [
           {
            "marker": {
             "colorbar": {
              "outlinewidth": 0,
              "ticks": ""
             }
            },
            "type": "scatterternary"
           }
          ],
          "surface": [
           {
            "colorbar": {
             "outlinewidth": 0,
             "ticks": ""
            },
            "colorscale": [
             [
              0,
              "#0d0887"
             ],
             [
              0.1111111111111111,
              "#46039f"
             ],
             [
              0.2222222222222222,
              "#7201a8"
             ],
             [
              0.3333333333333333,
              "#9c179e"
             ],
             [
              0.4444444444444444,
              "#bd3786"
             ],
             [
              0.5555555555555556,
              "#d8576b"
             ],
             [
              0.6666666666666666,
              "#ed7953"
             ],
             [
              0.7777777777777778,
              "#fb9f3a"
             ],
             [
              0.8888888888888888,
              "#fdca26"
             ],
             [
              1,
              "#f0f921"
             ]
            ],
            "type": "surface"
           }
          ],
          "table": [
           {
            "cells": {
             "fill": {
              "color": "#EBF0F8"
             },
             "line": {
              "color": "white"
             }
            },
            "header": {
             "fill": {
              "color": "#C8D4E3"
             },
             "line": {
              "color": "white"
             }
            },
            "type": "table"
           }
          ]
         },
         "layout": {
          "annotationdefaults": {
           "arrowcolor": "#2a3f5f",
           "arrowhead": 0,
           "arrowwidth": 1
          },
          "autotypenumbers": "strict",
          "coloraxis": {
           "colorbar": {
            "outlinewidth": 0,
            "ticks": ""
           }
          },
          "colorscale": {
           "diverging": [
            [
             0,
             "#8e0152"
            ],
            [
             0.1,
             "#c51b7d"
            ],
            [
             0.2,
             "#de77ae"
            ],
            [
             0.3,
             "#f1b6da"
            ],
            [
             0.4,
             "#fde0ef"
            ],
            [
             0.5,
             "#f7f7f7"
            ],
            [
             0.6,
             "#e6f5d0"
            ],
            [
             0.7,
             "#b8e186"
            ],
            [
             0.8,
             "#7fbc41"
            ],
            [
             0.9,
             "#4d9221"
            ],
            [
             1,
             "#276419"
            ]
           ],
           "sequential": [
            [
             0,
             "#0d0887"
            ],
            [
             0.1111111111111111,
             "#46039f"
            ],
            [
             0.2222222222222222,
             "#7201a8"
            ],
            [
             0.3333333333333333,
             "#9c179e"
            ],
            [
             0.4444444444444444,
             "#bd3786"
            ],
            [
             0.5555555555555556,
             "#d8576b"
            ],
            [
             0.6666666666666666,
             "#ed7953"
            ],
            [
             0.7777777777777778,
             "#fb9f3a"
            ],
            [
             0.8888888888888888,
             "#fdca26"
            ],
            [
             1,
             "#f0f921"
            ]
           ],
           "sequentialminus": [
            [
             0,
             "#0d0887"
            ],
            [
             0.1111111111111111,
             "#46039f"
            ],
            [
             0.2222222222222222,
             "#7201a8"
            ],
            [
             0.3333333333333333,
             "#9c179e"
            ],
            [
             0.4444444444444444,
             "#bd3786"
            ],
            [
             0.5555555555555556,
             "#d8576b"
            ],
            [
             0.6666666666666666,
             "#ed7953"
            ],
            [
             0.7777777777777778,
             "#fb9f3a"
            ],
            [
             0.8888888888888888,
             "#fdca26"
            ],
            [
             1,
             "#f0f921"
            ]
           ]
          },
          "colorway": [
           "#636efa",
           "#EF553B",
           "#00cc96",
           "#ab63fa",
           "#FFA15A",
           "#19d3f3",
           "#FF6692",
           "#B6E880",
           "#FF97FF",
           "#FECB52"
          ],
          "font": {
           "color": "#2a3f5f"
          },
          "geo": {
           "bgcolor": "white",
           "lakecolor": "white",
           "landcolor": "#E5ECF6",
           "showlakes": true,
           "showland": true,
           "subunitcolor": "white"
          },
          "hoverlabel": {
           "align": "left"
          },
          "hovermode": "closest",
          "mapbox": {
           "style": "light"
          },
          "paper_bgcolor": "white",
          "plot_bgcolor": "#E5ECF6",
          "polar": {
           "angularaxis": {
            "gridcolor": "white",
            "linecolor": "white",
            "ticks": ""
           },
           "bgcolor": "#E5ECF6",
           "radialaxis": {
            "gridcolor": "white",
            "linecolor": "white",
            "ticks": ""
           }
          },
          "scene": {
           "xaxis": {
            "backgroundcolor": "#E5ECF6",
            "gridcolor": "white",
            "gridwidth": 2,
            "linecolor": "white",
            "showbackground": true,
            "ticks": "",
            "zerolinecolor": "white"
           },
           "yaxis": {
            "backgroundcolor": "#E5ECF6",
            "gridcolor": "white",
            "gridwidth": 2,
            "linecolor": "white",
            "showbackground": true,
            "ticks": "",
            "zerolinecolor": "white"
           },
           "zaxis": {
            "backgroundcolor": "#E5ECF6",
            "gridcolor": "white",
            "gridwidth": 2,
            "linecolor": "white",
            "showbackground": true,
            "ticks": "",
            "zerolinecolor": "white"
           }
          },
          "shapedefaults": {
           "line": {
            "color": "#2a3f5f"
           }
          },
          "ternary": {
           "aaxis": {
            "gridcolor": "white",
            "linecolor": "white",
            "ticks": ""
           },
           "baxis": {
            "gridcolor": "white",
            "linecolor": "white",
            "ticks": ""
           },
           "bgcolor": "#E5ECF6",
           "caxis": {
            "gridcolor": "white",
            "linecolor": "white",
            "ticks": ""
           }
          },
          "title": {
           "x": 0.05
          },
          "xaxis": {
           "automargin": true,
           "gridcolor": "white",
           "linecolor": "white",
           "ticks": "",
           "title": {
            "standoff": 15
           },
           "zerolinecolor": "white",
           "zerolinewidth": 2
          },
          "yaxis": {
           "automargin": true,
           "gridcolor": "white",
           "linecolor": "white",
           "ticks": "",
           "title": {
            "standoff": 15
           },
           "zerolinecolor": "white",
           "zerolinewidth": 2
          }
         }
        },
        "title": {
         "text": "Browse Time vs Tile Size"
        },
        "xaxis": {
         "anchor": "y",
         "domain": [
          0,
          1
         ],
         "title": {
          "text": "Tile.Size"
         }
        },
        "yaxis": {
         "anchor": "x",
         "domain": [
          0,
          1
         ],
         "title": {
          "text": "Browse.Time"
         }
        }
       }
      }
     },
     "metadata": {},
     "output_type": "display_data"
    },
    {
     "data": {
      "application/vnd.plotly.v1+json": {
       "config": {
        "plotlyServerURL": "https://plot.ly"
       },
       "data": [
        {
         "alignmentgroup": "True",
         "hovertemplate": "Prev.Type=%{x}<br>Browse.Time=%{y}<extra></extra>",
         "legendgroup": "",
         "marker": {
          "color": "#636efa"
         },
         "name": "",
         "notched": false,
         "offsetgroup": "",
         "orientation": "v",
         "showlegend": false,
         "type": "box",
         "x": [
          "AC",
          "AC",
          "AC",
          "AC",
          "TT",
          "TT",
          "AC",
          "AC",
          "TT",
          "TT"
         ],
         "x0": " ",
         "xaxis": "x",
         "y": [
          21.735491137946287,
          19.38413378034771,
          19.69054169212004,
          16.898835661035925,
          19.71413226132941,
          17.745648152667837,
          17.73078087241571,
          17.149231452708424,
          17.785209797610346,
          19.300831076845476
         ],
         "y0": " ",
         "yaxis": "y"
        }
       ],
       "layout": {
        "boxmode": "group",
        "legend": {
         "tracegroupgap": 0
        },
        "template": {
         "data": {
          "bar": [
           {
            "error_x": {
             "color": "#2a3f5f"
            },
            "error_y": {
             "color": "#2a3f5f"
            },
            "marker": {
             "line": {
              "color": "#E5ECF6",
              "width": 0.5
             },
             "pattern": {
              "fillmode": "overlay",
              "size": 10,
              "solidity": 0.2
             }
            },
            "type": "bar"
           }
          ],
          "barpolar": [
           {
            "marker": {
             "line": {
              "color": "#E5ECF6",
              "width": 0.5
             },
             "pattern": {
              "fillmode": "overlay",
              "size": 10,
              "solidity": 0.2
             }
            },
            "type": "barpolar"
           }
          ],
          "carpet": [
           {
            "aaxis": {
             "endlinecolor": "#2a3f5f",
             "gridcolor": "white",
             "linecolor": "white",
             "minorgridcolor": "white",
             "startlinecolor": "#2a3f5f"
            },
            "baxis": {
             "endlinecolor": "#2a3f5f",
             "gridcolor": "white",
             "linecolor": "white",
             "minorgridcolor": "white",
             "startlinecolor": "#2a3f5f"
            },
            "type": "carpet"
           }
          ],
          "choropleth": [
           {
            "colorbar": {
             "outlinewidth": 0,
             "ticks": ""
            },
            "type": "choropleth"
           }
          ],
          "contour": [
           {
            "colorbar": {
             "outlinewidth": 0,
             "ticks": ""
            },
            "colorscale": [
             [
              0,
              "#0d0887"
             ],
             [
              0.1111111111111111,
              "#46039f"
             ],
             [
              0.2222222222222222,
              "#7201a8"
             ],
             [
              0.3333333333333333,
              "#9c179e"
             ],
             [
              0.4444444444444444,
              "#bd3786"
             ],
             [
              0.5555555555555556,
              "#d8576b"
             ],
             [
              0.6666666666666666,
              "#ed7953"
             ],
             [
              0.7777777777777778,
              "#fb9f3a"
             ],
             [
              0.8888888888888888,
              "#fdca26"
             ],
             [
              1,
              "#f0f921"
             ]
            ],
            "type": "contour"
           }
          ],
          "contourcarpet": [
           {
            "colorbar": {
             "outlinewidth": 0,
             "ticks": ""
            },
            "type": "contourcarpet"
           }
          ],
          "heatmap": [
           {
            "colorbar": {
             "outlinewidth": 0,
             "ticks": ""
            },
            "colorscale": [
             [
              0,
              "#0d0887"
             ],
             [
              0.1111111111111111,
              "#46039f"
             ],
             [
              0.2222222222222222,
              "#7201a8"
             ],
             [
              0.3333333333333333,
              "#9c179e"
             ],
             [
              0.4444444444444444,
              "#bd3786"
             ],
             [
              0.5555555555555556,
              "#d8576b"
             ],
             [
              0.6666666666666666,
              "#ed7953"
             ],
             [
              0.7777777777777778,
              "#fb9f3a"
             ],
             [
              0.8888888888888888,
              "#fdca26"
             ],
             [
              1,
              "#f0f921"
             ]
            ],
            "type": "heatmap"
           }
          ],
          "heatmapgl": [
           {
            "colorbar": {
             "outlinewidth": 0,
             "ticks": ""
            },
            "colorscale": [
             [
              0,
              "#0d0887"
             ],
             [
              0.1111111111111111,
              "#46039f"
             ],
             [
              0.2222222222222222,
              "#7201a8"
             ],
             [
              0.3333333333333333,
              "#9c179e"
             ],
             [
              0.4444444444444444,
              "#bd3786"
             ],
             [
              0.5555555555555556,
              "#d8576b"
             ],
             [
              0.6666666666666666,
              "#ed7953"
             ],
             [
              0.7777777777777778,
              "#fb9f3a"
             ],
             [
              0.8888888888888888,
              "#fdca26"
             ],
             [
              1,
              "#f0f921"
             ]
            ],
            "type": "heatmapgl"
           }
          ],
          "histogram": [
           {
            "marker": {
             "pattern": {
              "fillmode": "overlay",
              "size": 10,
              "solidity": 0.2
             }
            },
            "type": "histogram"
           }
          ],
          "histogram2d": [
           {
            "colorbar": {
             "outlinewidth": 0,
             "ticks": ""
            },
            "colorscale": [
             [
              0,
              "#0d0887"
             ],
             [
              0.1111111111111111,
              "#46039f"
             ],
             [
              0.2222222222222222,
              "#7201a8"
             ],
             [
              0.3333333333333333,
              "#9c179e"
             ],
             [
              0.4444444444444444,
              "#bd3786"
             ],
             [
              0.5555555555555556,
              "#d8576b"
             ],
             [
              0.6666666666666666,
              "#ed7953"
             ],
             [
              0.7777777777777778,
              "#fb9f3a"
             ],
             [
              0.8888888888888888,
              "#fdca26"
             ],
             [
              1,
              "#f0f921"
             ]
            ],
            "type": "histogram2d"
           }
          ],
          "histogram2dcontour": [
           {
            "colorbar": {
             "outlinewidth": 0,
             "ticks": ""
            },
            "colorscale": [
             [
              0,
              "#0d0887"
             ],
             [
              0.1111111111111111,
              "#46039f"
             ],
             [
              0.2222222222222222,
              "#7201a8"
             ],
             [
              0.3333333333333333,
              "#9c179e"
             ],
             [
              0.4444444444444444,
              "#bd3786"
             ],
             [
              0.5555555555555556,
              "#d8576b"
             ],
             [
              0.6666666666666666,
              "#ed7953"
             ],
             [
              0.7777777777777778,
              "#fb9f3a"
             ],
             [
              0.8888888888888888,
              "#fdca26"
             ],
             [
              1,
              "#f0f921"
             ]
            ],
            "type": "histogram2dcontour"
           }
          ],
          "mesh3d": [
           {
            "colorbar": {
             "outlinewidth": 0,
             "ticks": ""
            },
            "type": "mesh3d"
           }
          ],
          "parcoords": [
           {
            "line": {
             "colorbar": {
              "outlinewidth": 0,
              "ticks": ""
             }
            },
            "type": "parcoords"
           }
          ],
          "pie": [
           {
            "automargin": true,
            "type": "pie"
           }
          ],
          "scatter": [
           {
            "fillpattern": {
             "fillmode": "overlay",
             "size": 10,
             "solidity": 0.2
            },
            "type": "scatter"
           }
          ],
          "scatter3d": [
           {
            "line": {
             "colorbar": {
              "outlinewidth": 0,
              "ticks": ""
             }
            },
            "marker": {
             "colorbar": {
              "outlinewidth": 0,
              "ticks": ""
             }
            },
            "type": "scatter3d"
           }
          ],
          "scattercarpet": [
           {
            "marker": {
             "colorbar": {
              "outlinewidth": 0,
              "ticks": ""
             }
            },
            "type": "scattercarpet"
           }
          ],
          "scattergeo": [
           {
            "marker": {
             "colorbar": {
              "outlinewidth": 0,
              "ticks": ""
             }
            },
            "type": "scattergeo"
           }
          ],
          "scattergl": [
           {
            "marker": {
             "colorbar": {
              "outlinewidth": 0,
              "ticks": ""
             }
            },
            "type": "scattergl"
           }
          ],
          "scattermapbox": [
           {
            "marker": {
             "colorbar": {
              "outlinewidth": 0,
              "ticks": ""
             }
            },
            "type": "scattermapbox"
           }
          ],
          "scatterpolar": [
           {
            "marker": {
             "colorbar": {
              "outlinewidth": 0,
              "ticks": ""
             }
            },
            "type": "scatterpolar"
           }
          ],
          "scatterpolargl": [
           {
            "marker": {
             "colorbar": {
              "outlinewidth": 0,
              "ticks": ""
             }
            },
            "type": "scatterpolargl"
           }
          ],
          "scatterternary": [
           {
            "marker": {
             "colorbar": {
              "outlinewidth": 0,
              "ticks": ""
             }
            },
            "type": "scatterternary"
           }
          ],
          "surface": [
           {
            "colorbar": {
             "outlinewidth": 0,
             "ticks": ""
            },
            "colorscale": [
             [
              0,
              "#0d0887"
             ],
             [
              0.1111111111111111,
              "#46039f"
             ],
             [
              0.2222222222222222,
              "#7201a8"
             ],
             [
              0.3333333333333333,
              "#9c179e"
             ],
             [
              0.4444444444444444,
              "#bd3786"
             ],
             [
              0.5555555555555556,
              "#d8576b"
             ],
             [
              0.6666666666666666,
              "#ed7953"
             ],
             [
              0.7777777777777778,
              "#fb9f3a"
             ],
             [
              0.8888888888888888,
              "#fdca26"
             ],
             [
              1,
              "#f0f921"
             ]
            ],
            "type": "surface"
           }
          ],
          "table": [
           {
            "cells": {
             "fill": {
              "color": "#EBF0F8"
             },
             "line": {
              "color": "white"
             }
            },
            "header": {
             "fill": {
              "color": "#C8D4E3"
             },
             "line": {
              "color": "white"
             }
            },
            "type": "table"
           }
          ]
         },
         "layout": {
          "annotationdefaults": {
           "arrowcolor": "#2a3f5f",
           "arrowhead": 0,
           "arrowwidth": 1
          },
          "autotypenumbers": "strict",
          "coloraxis": {
           "colorbar": {
            "outlinewidth": 0,
            "ticks": ""
           }
          },
          "colorscale": {
           "diverging": [
            [
             0,
             "#8e0152"
            ],
            [
             0.1,
             "#c51b7d"
            ],
            [
             0.2,
             "#de77ae"
            ],
            [
             0.3,
             "#f1b6da"
            ],
            [
             0.4,
             "#fde0ef"
            ],
            [
             0.5,
             "#f7f7f7"
            ],
            [
             0.6,
             "#e6f5d0"
            ],
            [
             0.7,
             "#b8e186"
            ],
            [
             0.8,
             "#7fbc41"
            ],
            [
             0.9,
             "#4d9221"
            ],
            [
             1,
             "#276419"
            ]
           ],
           "sequential": [
            [
             0,
             "#0d0887"
            ],
            [
             0.1111111111111111,
             "#46039f"
            ],
            [
             0.2222222222222222,
             "#7201a8"
            ],
            [
             0.3333333333333333,
             "#9c179e"
            ],
            [
             0.4444444444444444,
             "#bd3786"
            ],
            [
             0.5555555555555556,
             "#d8576b"
            ],
            [
             0.6666666666666666,
             "#ed7953"
            ],
            [
             0.7777777777777778,
             "#fb9f3a"
            ],
            [
             0.8888888888888888,
             "#fdca26"
            ],
            [
             1,
             "#f0f921"
            ]
           ],
           "sequentialminus": [
            [
             0,
             "#0d0887"
            ],
            [
             0.1111111111111111,
             "#46039f"
            ],
            [
             0.2222222222222222,
             "#7201a8"
            ],
            [
             0.3333333333333333,
             "#9c179e"
            ],
            [
             0.4444444444444444,
             "#bd3786"
            ],
            [
             0.5555555555555556,
             "#d8576b"
            ],
            [
             0.6666666666666666,
             "#ed7953"
            ],
            [
             0.7777777777777778,
             "#fb9f3a"
            ],
            [
             0.8888888888888888,
             "#fdca26"
            ],
            [
             1,
             "#f0f921"
            ]
           ]
          },
          "colorway": [
           "#636efa",
           "#EF553B",
           "#00cc96",
           "#ab63fa",
           "#FFA15A",
           "#19d3f3",
           "#FF6692",
           "#B6E880",
           "#FF97FF",
           "#FECB52"
          ],
          "font": {
           "color": "#2a3f5f"
          },
          "geo": {
           "bgcolor": "white",
           "lakecolor": "white",
           "landcolor": "#E5ECF6",
           "showlakes": true,
           "showland": true,
           "subunitcolor": "white"
          },
          "hoverlabel": {
           "align": "left"
          },
          "hovermode": "closest",
          "mapbox": {
           "style": "light"
          },
          "paper_bgcolor": "white",
          "plot_bgcolor": "#E5ECF6",
          "polar": {
           "angularaxis": {
            "gridcolor": "white",
            "linecolor": "white",
            "ticks": ""
           },
           "bgcolor": "#E5ECF6",
           "radialaxis": {
            "gridcolor": "white",
            "linecolor": "white",
            "ticks": ""
           }
          },
          "scene": {
           "xaxis": {
            "backgroundcolor": "#E5ECF6",
            "gridcolor": "white",
            "gridwidth": 2,
            "linecolor": "white",
            "showbackground": true,
            "ticks": "",
            "zerolinecolor": "white"
           },
           "yaxis": {
            "backgroundcolor": "#E5ECF6",
            "gridcolor": "white",
            "gridwidth": 2,
            "linecolor": "white",
            "showbackground": true,
            "ticks": "",
            "zerolinecolor": "white"
           },
           "zaxis": {
            "backgroundcolor": "#E5ECF6",
            "gridcolor": "white",
            "gridwidth": 2,
            "linecolor": "white",
            "showbackground": true,
            "ticks": "",
            "zerolinecolor": "white"
           }
          },
          "shapedefaults": {
           "line": {
            "color": "#2a3f5f"
           }
          },
          "ternary": {
           "aaxis": {
            "gridcolor": "white",
            "linecolor": "white",
            "ticks": ""
           },
           "baxis": {
            "gridcolor": "white",
            "linecolor": "white",
            "ticks": ""
           },
           "bgcolor": "#E5ECF6",
           "caxis": {
            "gridcolor": "white",
            "linecolor": "white",
            "ticks": ""
           }
          },
          "title": {
           "x": 0.05
          },
          "xaxis": {
           "automargin": true,
           "gridcolor": "white",
           "linecolor": "white",
           "ticks": "",
           "title": {
            "standoff": 15
           },
           "zerolinecolor": "white",
           "zerolinewidth": 2
          },
          "yaxis": {
           "automargin": true,
           "gridcolor": "white",
           "linecolor": "white",
           "ticks": "",
           "title": {
            "standoff": 15
           },
           "zerolinecolor": "white",
           "zerolinewidth": 2
          }
         }
        },
        "title": {
         "text": "Browse Time vs Prev Type"
        },
        "xaxis": {
         "anchor": "y",
         "domain": [
          0,
          1
         ],
         "title": {
          "text": "Prev.Type"
         }
        },
        "yaxis": {
         "anchor": "x",
         "domain": [
          0,
          1
         ],
         "title": {
          "text": "Browse.Time"
         }
        }
       }
      }
     },
     "metadata": {},
     "output_type": "display_data"
    }
   ],
   "source": [
    "fig = px.bar(mean_browse_time, x='Prev.Length', y='Browse.Time',\n",
    "             title='Average Browsing Time vs Previous Length')\n",
    "fig.show()\n",
    "\n",
    "# Plot for Browse_Time vs Match.Score\n",
    "fig2 = px.bar(mean_browse_time, x='Match.Score', y='Browse.Time', title='Browse Time vs Match Score')\n",
    "fig2.show()\n",
    "\n",
    "# Plot for Browse_Time vs Tile.Size\n",
    "fig3 = px.bar(mean_browse_time, x='Tile.Size', y='Browse.Time', title='Browse Time vs Tile Size')\n",
    "fig3.show()\n",
    "\n",
    "# Plot for Browse_Time vs Prev.Type\n",
    "# Note: Since 'Prev.Type' is a categorical variable, it might be better to use a box plot or a violin plot.\n",
    "fig4 = px.box(mean_browse_time, x='Prev.Type', y='Browse.Time', title='Browse Time vs Prev Type')\n",
    "fig4.show()"
   ]
  },
  {
   "cell_type": "markdown",
   "metadata": {},
   "source": [
    "# 2^k Factorial Design\n",
    "\n",
    "- In the report, data from different simulation have been used for this part."
   ]
  },
  {
   "cell_type": "code",
   "execution_count": 138,
   "metadata": {},
   "outputs": [
    {
     "name": "stdout",
     "output_type": "stream",
     "text": [
      "<class 'pandas.core.frame.DataFrame'>\n",
      "RangeIndex: 1600 entries, 0 to 1599\n",
      "Data columns (total 5 columns):\n",
      " #   Column       Non-Null Count  Dtype   \n",
      "---  ------       --------------  -----   \n",
      " 0   Prev_Length  1600 non-null   float64 \n",
      " 1   Match_Score  1600 non-null   float64 \n",
      " 2   Tile_Size    1600 non-null   float64 \n",
      " 3   Prev_Type    1600 non-null   category\n",
      " 4   Browse_Time  1600 non-null   float64 \n",
      "dtypes: category(1), float64(4)\n",
      "memory usage: 51.8 KB\n"
     ]
    }
   ],
   "source": [
    "two_k = pd.read_csv('2kdesign.csv')\n",
    "\n",
    "two_k.rename(columns=lambda x: x.replace('.', '_'), inplace=True)\n",
    "\n",
    "two_k['Prev_Length'] = two_k['Prev_Length'].astype(float)\n",
    "two_k['Match_Score'] = two_k['Match_Score'].astype(float)\n",
    "two_k['Tile_Size'] = two_k['Tile_Size'].astype(float)\n",
    "two_k['Prev_Type'] = two_k['Prev_Type'].astype('category')\n",
    "\n",
    "two_k.info()"
   ]
  },
  {
   "cell_type": "code",
   "execution_count": 139,
   "metadata": {},
   "outputs": [
    {
     "data": {
      "text/html": [
       "<table class=\"simpletable\">\n",
       "<caption>OLS Regression Results</caption>\n",
       "<tr>\n",
       "  <th>Dep. Variable:</th>       <td>Browse_Time</td>   <th>  R-squared:         </th> <td>   0.887</td>\n",
       "</tr>\n",
       "<tr>\n",
       "  <th>Model:</th>                   <td>OLS</td>       <th>  Adj. R-squared:    </th> <td>   0.886</td>\n",
       "</tr>\n",
       "<tr>\n",
       "  <th>Method:</th>             <td>Least Squares</td>  <th>  F-statistic:       </th> <td>   831.0</td>\n",
       "</tr>\n",
       "<tr>\n",
       "  <th>Date:</th>             <td>Fri, 15 Mar 2024</td> <th>  Prob (F-statistic):</th>  <td>  0.00</td> \n",
       "</tr>\n",
       "<tr>\n",
       "  <th>Time:</th>                 <td>19:30:45</td>     <th>  Log-Likelihood:    </th> <td> -2257.1</td>\n",
       "</tr>\n",
       "<tr>\n",
       "  <th>No. Observations:</th>      <td>  1600</td>      <th>  AIC:               </th> <td>   4546.</td>\n",
       "</tr>\n",
       "<tr>\n",
       "  <th>Df Residuals:</th>          <td>  1584</td>      <th>  BIC:               </th> <td>   4632.</td>\n",
       "</tr>\n",
       "<tr>\n",
       "  <th>Df Model:</th>              <td>    15</td>      <th>                     </th>     <td> </td>   \n",
       "</tr>\n",
       "<tr>\n",
       "  <th>Covariance Type:</th>      <td>nonrobust</td>    <th>                     </th>     <td> </td>   \n",
       "</tr>\n",
       "</table>\n",
       "<table class=\"simpletable\">\n",
       "<tr>\n",
       "                            <td></td>                              <th>coef</th>     <th>std err</th>      <th>t</th>      <th>P>|t|</th>  <th>[0.025</th>    <th>0.975]</th>  \n",
       "</tr>\n",
       "<tr>\n",
       "  <th>Intercept</th>                                            <td>   24.9645</td> <td>    0.175</td> <td>  142.956</td> <td> 0.000</td> <td>   24.622</td> <td>   25.307</td>\n",
       "</tr>\n",
       "<tr>\n",
       "  <th>C(Prev_Type)[T.TT]</th>                                   <td>   -5.3329</td> <td>    0.247</td> <td>  -21.594</td> <td> 0.000</td> <td>   -5.817</td> <td>   -4.848</td>\n",
       "</tr>\n",
       "<tr>\n",
       "  <th>Prev_Length</th>                                          <td>   -0.0015</td> <td>    0.002</td> <td>   -0.759</td> <td> 0.448</td> <td>   -0.005</td> <td>    0.002</td>\n",
       "</tr>\n",
       "<tr>\n",
       "  <th>Prev_Length:C(Prev_Type)[T.TT]</th>                       <td>    0.0049</td> <td>    0.003</td> <td>    1.729</td> <td> 0.084</td> <td>   -0.001</td> <td>    0.010</td>\n",
       "</tr>\n",
       "<tr>\n",
       "  <th>Match_Score</th>                                          <td>   -0.0394</td> <td>    0.002</td> <td>  -15.953</td> <td> 0.000</td> <td>   -0.044</td> <td>   -0.035</td>\n",
       "</tr>\n",
       "<tr>\n",
       "  <th>Match_Score:C(Prev_Type)[T.TT]</th>                       <td>    0.0027</td> <td>    0.003</td> <td>    0.778</td> <td> 0.437</td> <td>   -0.004</td> <td>    0.010</td>\n",
       "</tr>\n",
       "<tr>\n",
       "  <th>Prev_Length:Match_Score</th>                              <td>    0.0003</td> <td> 2.82e-05</td> <td>   12.011</td> <td> 0.000</td> <td>    0.000</td> <td>    0.000</td>\n",
       "</tr>\n",
       "<tr>\n",
       "  <th>Prev_Length:Match_Score:C(Prev_Type)[T.TT]</th>           <td>-3.561e-05</td> <td> 3.99e-05</td> <td>   -0.892</td> <td> 0.373</td> <td>   -0.000</td> <td> 4.27e-05</td>\n",
       "</tr>\n",
       "<tr>\n",
       "  <th>Tile_Size</th>                                            <td>    0.2333</td> <td>    0.484</td> <td>    0.482</td> <td> 0.630</td> <td>   -0.717</td> <td>    1.183</td>\n",
       "</tr>\n",
       "<tr>\n",
       "  <th>Tile_Size:C(Prev_Type)[T.TT]</th>                         <td>    0.9612</td> <td>    0.685</td> <td>    1.403</td> <td> 0.161</td> <td>   -0.382</td> <td>    2.305</td>\n",
       "</tr>\n",
       "<tr>\n",
       "  <th>Prev_Length:Tile_Size</th>                                <td>   -0.0022</td> <td>    0.006</td> <td>   -0.400</td> <td> 0.689</td> <td>   -0.013</td> <td>    0.009</td>\n",
       "</tr>\n",
       "<tr>\n",
       "  <th>Prev_Length:Tile_Size:C(Prev_Type)[T.TT]</th>             <td>   -0.0076</td> <td>    0.008</td> <td>   -0.975</td> <td> 0.330</td> <td>   -0.023</td> <td>    0.008</td>\n",
       "</tr>\n",
       "<tr>\n",
       "  <th>Match_Score:Tile_Size</th>                                <td>   -0.0046</td> <td>    0.007</td> <td>   -0.668</td> <td> 0.504</td> <td>   -0.018</td> <td>    0.009</td>\n",
       "</tr>\n",
       "<tr>\n",
       "  <th>Match_Score:Tile_Size:C(Prev_Type)[T.TT]</th>             <td>   -0.0088</td> <td>    0.010</td> <td>   -0.904</td> <td> 0.366</td> <td>   -0.028</td> <td>    0.010</td>\n",
       "</tr>\n",
       "<tr>\n",
       "  <th>Prev_Length:Match_Score:Tile_Size</th>                    <td>  5.25e-05</td> <td> 7.83e-05</td> <td>    0.670</td> <td> 0.503</td> <td>   -0.000</td> <td>    0.000</td>\n",
       "</tr>\n",
       "<tr>\n",
       "  <th>Prev_Length:Match_Score:Tile_Size:C(Prev_Type)[T.TT]</th> <td> 5.838e-05</td> <td>    0.000</td> <td>    0.527</td> <td> 0.598</td> <td>   -0.000</td> <td>    0.000</td>\n",
       "</tr>\n",
       "</table>\n",
       "<table class=\"simpletable\">\n",
       "<tr>\n",
       "  <th>Omnibus:</th>       <td> 8.497</td> <th>  Durbin-Watson:     </th> <td>   2.019</td>\n",
       "</tr>\n",
       "<tr>\n",
       "  <th>Prob(Omnibus):</th> <td> 0.014</td> <th>  Jarque-Bera (JB):  </th> <td>   6.476</td>\n",
       "</tr>\n",
       "<tr>\n",
       "  <th>Skew:</th>          <td> 0.035</td> <th>  Prob(JB):          </th> <td>  0.0392</td>\n",
       "</tr>\n",
       "<tr>\n",
       "  <th>Kurtosis:</th>      <td> 2.696</td> <th>  Cond. No.          </th> <td>2.43e+05</td>\n",
       "</tr>\n",
       "</table><br/><br/>Notes:<br/>[1] Standard Errors assume that the covariance matrix of the errors is correctly specified.<br/>[2] The condition number is large, 2.43e+05. This might indicate that there are<br/>strong multicollinearity or other numerical problems."
      ],
      "text/latex": [
       "\\begin{center}\n",
       "\\begin{tabular}{lclc}\n",
       "\\toprule\n",
       "\\textbf{Dep. Variable:}                                           &   Browse\\_Time   & \\textbf{  R-squared:         } &     0.887   \\\\\n",
       "\\textbf{Model:}                                                   &       OLS        & \\textbf{  Adj. R-squared:    } &     0.886   \\\\\n",
       "\\textbf{Method:}                                                  &  Least Squares   & \\textbf{  F-statistic:       } &     831.0   \\\\\n",
       "\\textbf{Date:}                                                    & Fri, 15 Mar 2024 & \\textbf{  Prob (F-statistic):} &     0.00    \\\\\n",
       "\\textbf{Time:}                                                    &     19:30:45     & \\textbf{  Log-Likelihood:    } &   -2257.1   \\\\\n",
       "\\textbf{No. Observations:}                                        &        1600      & \\textbf{  AIC:               } &     4546.   \\\\\n",
       "\\textbf{Df Residuals:}                                            &        1584      & \\textbf{  BIC:               } &     4632.   \\\\\n",
       "\\textbf{Df Model:}                                                &          15      & \\textbf{                     } &             \\\\\n",
       "\\textbf{Covariance Type:}                                         &    nonrobust     & \\textbf{                     } &             \\\\\n",
       "\\bottomrule\n",
       "\\end{tabular}\n",
       "\\begin{tabular}{lcccccc}\n",
       "                                                                  & \\textbf{coef} & \\textbf{std err} & \\textbf{t} & \\textbf{P$> |$t$|$} & \\textbf{[0.025} & \\textbf{0.975]}  \\\\\n",
       "\\midrule\n",
       "\\textbf{Intercept}                                                &      24.9645  &        0.175     &   142.956  &         0.000        &       24.622    &       25.307     \\\\\n",
       "\\textbf{C(Prev\\_Type)[T.TT]}                                      &      -5.3329  &        0.247     &   -21.594  &         0.000        &       -5.817    &       -4.848     \\\\\n",
       "\\textbf{Prev\\_Length}                                             &      -0.0015  &        0.002     &    -0.759  &         0.448        &       -0.005    &        0.002     \\\\\n",
       "\\textbf{Prev\\_Length:C(Prev\\_Type)[T.TT]}                         &       0.0049  &        0.003     &     1.729  &         0.084        &       -0.001    &        0.010     \\\\\n",
       "\\textbf{Match\\_Score}                                             &      -0.0394  &        0.002     &   -15.953  &         0.000        &       -0.044    &       -0.035     \\\\\n",
       "\\textbf{Match\\_Score:C(Prev\\_Type)[T.TT]}                         &       0.0027  &        0.003     &     0.778  &         0.437        &       -0.004    &        0.010     \\\\\n",
       "\\textbf{Prev\\_Length:Match\\_Score}                                &       0.0003  &     2.82e-05     &    12.011  &         0.000        &        0.000    &        0.000     \\\\\n",
       "\\textbf{Prev\\_Length:Match\\_Score:C(Prev\\_Type)[T.TT]}            &   -3.561e-05  &     3.99e-05     &    -0.892  &         0.373        &       -0.000    &     4.27e-05     \\\\\n",
       "\\textbf{Tile\\_Size}                                               &       0.2333  &        0.484     &     0.482  &         0.630        &       -0.717    &        1.183     \\\\\n",
       "\\textbf{Tile\\_Size:C(Prev\\_Type)[T.TT]}                           &       0.9612  &        0.685     &     1.403  &         0.161        &       -0.382    &        2.305     \\\\\n",
       "\\textbf{Prev\\_Length:Tile\\_Size}                                  &      -0.0022  &        0.006     &    -0.400  &         0.689        &       -0.013    &        0.009     \\\\\n",
       "\\textbf{Prev\\_Length:Tile\\_Size:C(Prev\\_Type)[T.TT]}              &      -0.0076  &        0.008     &    -0.975  &         0.330        &       -0.023    &        0.008     \\\\\n",
       "\\textbf{Match\\_Score:Tile\\_Size}                                  &      -0.0046  &        0.007     &    -0.668  &         0.504        &       -0.018    &        0.009     \\\\\n",
       "\\textbf{Match\\_Score:Tile\\_Size:C(Prev\\_Type)[T.TT]}              &      -0.0088  &        0.010     &    -0.904  &         0.366        &       -0.028    &        0.010     \\\\\n",
       "\\textbf{Prev\\_Length:Match\\_Score:Tile\\_Size}                     &     5.25e-05  &     7.83e-05     &     0.670  &         0.503        &       -0.000    &        0.000     \\\\\n",
       "\\textbf{Prev\\_Length:Match\\_Score:Tile\\_Size:C(Prev\\_Type)[T.TT]} &    5.838e-05  &        0.000     &     0.527  &         0.598        &       -0.000    &        0.000     \\\\\n",
       "\\bottomrule\n",
       "\\end{tabular}\n",
       "\\begin{tabular}{lclc}\n",
       "\\textbf{Omnibus:}       &  8.497 & \\textbf{  Durbin-Watson:     } &    2.019  \\\\\n",
       "\\textbf{Prob(Omnibus):} &  0.014 & \\textbf{  Jarque-Bera (JB):  } &    6.476  \\\\\n",
       "\\textbf{Skew:}          &  0.035 & \\textbf{  Prob(JB):          } &   0.0392  \\\\\n",
       "\\textbf{Kurtosis:}      &  2.696 & \\textbf{  Cond. No.          } & 2.43e+05  \\\\\n",
       "\\bottomrule\n",
       "\\end{tabular}\n",
       "%\\caption{OLS Regression Results}\n",
       "\\end{center}\n",
       "\n",
       "Notes: \\newline\n",
       " [1] Standard Errors assume that the covariance matrix of the errors is correctly specified. \\newline\n",
       " [2] The condition number is large, 2.43e+05. This might indicate that there are \\newline\n",
       " strong multicollinearity or other numerical problems."
      ],
      "text/plain": [
       "<class 'statsmodels.iolib.summary.Summary'>\n",
       "\"\"\"\n",
       "                            OLS Regression Results                            \n",
       "==============================================================================\n",
       "Dep. Variable:            Browse_Time   R-squared:                       0.887\n",
       "Model:                            OLS   Adj. R-squared:                  0.886\n",
       "Method:                 Least Squares   F-statistic:                     831.0\n",
       "Date:                Fri, 15 Mar 2024   Prob (F-statistic):               0.00\n",
       "Time:                        19:30:45   Log-Likelihood:                -2257.1\n",
       "No. Observations:                1600   AIC:                             4546.\n",
       "Df Residuals:                    1584   BIC:                             4632.\n",
       "Df Model:                          15                                         \n",
       "Covariance Type:            nonrobust                                         \n",
       "========================================================================================================================\n",
       "                                                           coef    std err          t      P>|t|      [0.025      0.975]\n",
       "------------------------------------------------------------------------------------------------------------------------\n",
       "Intercept                                               24.9645      0.175    142.956      0.000      24.622      25.307\n",
       "C(Prev_Type)[T.TT]                                      -5.3329      0.247    -21.594      0.000      -5.817      -4.848\n",
       "Prev_Length                                             -0.0015      0.002     -0.759      0.448      -0.005       0.002\n",
       "Prev_Length:C(Prev_Type)[T.TT]                           0.0049      0.003      1.729      0.084      -0.001       0.010\n",
       "Match_Score                                             -0.0394      0.002    -15.953      0.000      -0.044      -0.035\n",
       "Match_Score:C(Prev_Type)[T.TT]                           0.0027      0.003      0.778      0.437      -0.004       0.010\n",
       "Prev_Length:Match_Score                                  0.0003   2.82e-05     12.011      0.000       0.000       0.000\n",
       "Prev_Length:Match_Score:C(Prev_Type)[T.TT]           -3.561e-05   3.99e-05     -0.892      0.373      -0.000    4.27e-05\n",
       "Tile_Size                                                0.2333      0.484      0.482      0.630      -0.717       1.183\n",
       "Tile_Size:C(Prev_Type)[T.TT]                             0.9612      0.685      1.403      0.161      -0.382       2.305\n",
       "Prev_Length:Tile_Size                                   -0.0022      0.006     -0.400      0.689      -0.013       0.009\n",
       "Prev_Length:Tile_Size:C(Prev_Type)[T.TT]                -0.0076      0.008     -0.975      0.330      -0.023       0.008\n",
       "Match_Score:Tile_Size                                   -0.0046      0.007     -0.668      0.504      -0.018       0.009\n",
       "Match_Score:Tile_Size:C(Prev_Type)[T.TT]                -0.0088      0.010     -0.904      0.366      -0.028       0.010\n",
       "Prev_Length:Match_Score:Tile_Size                      5.25e-05   7.83e-05      0.670      0.503      -0.000       0.000\n",
       "Prev_Length:Match_Score:Tile_Size:C(Prev_Type)[T.TT]  5.838e-05      0.000      0.527      0.598      -0.000       0.000\n",
       "==============================================================================\n",
       "Omnibus:                        8.497   Durbin-Watson:                   2.019\n",
       "Prob(Omnibus):                  0.014   Jarque-Bera (JB):                6.476\n",
       "Skew:                           0.035   Prob(JB):                       0.0392\n",
       "Kurtosis:                       2.696   Cond. No.                     2.43e+05\n",
       "==============================================================================\n",
       "\n",
       "Notes:\n",
       "[1] Standard Errors assume that the covariance matrix of the errors is correctly specified.\n",
       "[2] The condition number is large, 2.43e+05. This might indicate that there are\n",
       "strong multicollinearity or other numerical problems.\n",
       "\"\"\""
      ]
     },
     "execution_count": 139,
     "metadata": {},
     "output_type": "execute_result"
    }
   ],
   "source": [
    "model = smf.ols('Browse_Time ~ Prev_Length * Match_Score * Tile_Size * C(Prev_Type)', data=two_k).fit()\n",
    "model.summary()"
   ]
  },
  {
   "cell_type": "markdown",
   "metadata": {},
   "source": [
    "# The Second Set of Experiments"
   ]
  },
  {
   "cell_type": "code",
   "execution_count": 140,
   "metadata": {},
   "outputs": [
    {
     "name": "stdout",
     "output_type": "stream",
     "text": [
      "<class 'pandas.core.frame.DataFrame'>\n",
      "RangeIndex: 3000 entries, 0 to 2999\n",
      "Data columns (total 5 columns):\n",
      " #   Column       Non-Null Count  Dtype   \n",
      "---  ------       --------------  -----   \n",
      " 0   Match_Score  3000 non-null   float64 \n",
      " 1   Prev_Length  3000 non-null   float64 \n",
      " 2   Prev_Type    3000 non-null   category\n",
      " 3   Tile_Size    3000 non-null   float64 \n",
      " 4   Browse_Time  3000 non-null   float64 \n",
      "dtypes: category(1), float64(4)\n",
      "memory usage: 96.9 KB\n"
     ]
    }
   ],
   "source": [
    "new_data = pd.read_csv(\"secondrun.csv\")\n",
    "new_data.rename(columns=lambda x: x.replace('.', '_'), inplace=True)\n",
    "\n",
    "new_data['Prev_Length'] = new_data['Prev_Length'].astype(float)\n",
    "new_data['Match_Score'] = new_data['Match_Score'].astype(float)\n",
    "new_data['Tile_Size'] = new_data['Tile_Size'].astype(float)\n",
    "new_data['Prev_Type'] = new_data['Prev_Type'].astype('category')\n",
    "\n",
    "new_data.info()"
   ]
  },
  {
   "cell_type": "code",
   "execution_count": 141,
   "metadata": {},
   "outputs": [
    {
     "data": {
      "text/html": [
       "<div>\n",
       "<style scoped>\n",
       "    .dataframe tbody tr th:only-of-type {\n",
       "        vertical-align: middle;\n",
       "    }\n",
       "\n",
       "    .dataframe tbody tr th {\n",
       "        vertical-align: top;\n",
       "    }\n",
       "\n",
       "    .dataframe thead th {\n",
       "        text-align: right;\n",
       "    }\n",
       "</style>\n",
       "<table border=\"1\" class=\"dataframe\">\n",
       "  <thead>\n",
       "    <tr style=\"text-align: right;\">\n",
       "      <th></th>\n",
       "      <th>Prev_Length</th>\n",
       "      <th>Match_Score</th>\n",
       "      <th>Tile_Size</th>\n",
       "      <th>Prev_Type</th>\n",
       "      <th>Browse_Time</th>\n",
       "    </tr>\n",
       "  </thead>\n",
       "  <tbody>\n",
       "    <tr>\n",
       "      <th>0</th>\n",
       "      <td>45.0</td>\n",
       "      <td>50.0</td>\n",
       "      <td>0.2</td>\n",
       "      <td>AC</td>\n",
       "      <td>22.119528</td>\n",
       "    </tr>\n",
       "    <tr>\n",
       "      <th>1</th>\n",
       "      <td>45.0</td>\n",
       "      <td>50.0</td>\n",
       "      <td>0.2</td>\n",
       "      <td>TT</td>\n",
       "      <td>17.091101</td>\n",
       "    </tr>\n",
       "    <tr>\n",
       "      <th>2</th>\n",
       "      <td>45.0</td>\n",
       "      <td>70.0</td>\n",
       "      <td>0.2</td>\n",
       "      <td>AC</td>\n",
       "      <td>18.062620</td>\n",
       "    </tr>\n",
       "    <tr>\n",
       "      <th>3</th>\n",
       "      <td>45.0</td>\n",
       "      <td>70.0</td>\n",
       "      <td>0.2</td>\n",
       "      <td>TT</td>\n",
       "      <td>13.243832</td>\n",
       "    </tr>\n",
       "    <tr>\n",
       "      <th>4</th>\n",
       "      <td>45.0</td>\n",
       "      <td>90.0</td>\n",
       "      <td>0.2</td>\n",
       "      <td>AC</td>\n",
       "      <td>18.528308</td>\n",
       "    </tr>\n",
       "    <tr>\n",
       "      <th>5</th>\n",
       "      <td>45.0</td>\n",
       "      <td>90.0</td>\n",
       "      <td>0.2</td>\n",
       "      <td>TT</td>\n",
       "      <td>13.541089</td>\n",
       "    </tr>\n",
       "    <tr>\n",
       "      <th>6</th>\n",
       "      <td>60.0</td>\n",
       "      <td>50.0</td>\n",
       "      <td>0.2</td>\n",
       "      <td>AC</td>\n",
       "      <td>22.346298</td>\n",
       "    </tr>\n",
       "    <tr>\n",
       "      <th>7</th>\n",
       "      <td>60.0</td>\n",
       "      <td>50.0</td>\n",
       "      <td>0.2</td>\n",
       "      <td>TT</td>\n",
       "      <td>17.239253</td>\n",
       "    </tr>\n",
       "    <tr>\n",
       "      <th>8</th>\n",
       "      <td>60.0</td>\n",
       "      <td>70.0</td>\n",
       "      <td>0.2</td>\n",
       "      <td>AC</td>\n",
       "      <td>17.125488</td>\n",
       "    </tr>\n",
       "    <tr>\n",
       "      <th>9</th>\n",
       "      <td>60.0</td>\n",
       "      <td>70.0</td>\n",
       "      <td>0.2</td>\n",
       "      <td>TT</td>\n",
       "      <td>11.849249</td>\n",
       "    </tr>\n",
       "    <tr>\n",
       "      <th>10</th>\n",
       "      <td>60.0</td>\n",
       "      <td>90.0</td>\n",
       "      <td>0.2</td>\n",
       "      <td>AC</td>\n",
       "      <td>17.258491</td>\n",
       "    </tr>\n",
       "    <tr>\n",
       "      <th>11</th>\n",
       "      <td>60.0</td>\n",
       "      <td>90.0</td>\n",
       "      <td>0.2</td>\n",
       "      <td>TT</td>\n",
       "      <td>12.175213</td>\n",
       "    </tr>\n",
       "    <tr>\n",
       "      <th>12</th>\n",
       "      <td>75.0</td>\n",
       "      <td>50.0</td>\n",
       "      <td>0.2</td>\n",
       "      <td>AC</td>\n",
       "      <td>21.120803</td>\n",
       "    </tr>\n",
       "    <tr>\n",
       "      <th>13</th>\n",
       "      <td>75.0</td>\n",
       "      <td>50.0</td>\n",
       "      <td>0.2</td>\n",
       "      <td>TT</td>\n",
       "      <td>16.060363</td>\n",
       "    </tr>\n",
       "    <tr>\n",
       "      <th>14</th>\n",
       "      <td>75.0</td>\n",
       "      <td>70.0</td>\n",
       "      <td>0.2</td>\n",
       "      <td>AC</td>\n",
       "      <td>15.202460</td>\n",
       "    </tr>\n",
       "    <tr>\n",
       "      <th>15</th>\n",
       "      <td>75.0</td>\n",
       "      <td>70.0</td>\n",
       "      <td>0.2</td>\n",
       "      <td>TT</td>\n",
       "      <td>10.212925</td>\n",
       "    </tr>\n",
       "    <tr>\n",
       "      <th>16</th>\n",
       "      <td>75.0</td>\n",
       "      <td>90.0</td>\n",
       "      <td>0.2</td>\n",
       "      <td>AC</td>\n",
       "      <td>17.819933</td>\n",
       "    </tr>\n",
       "    <tr>\n",
       "      <th>17</th>\n",
       "      <td>75.0</td>\n",
       "      <td>90.0</td>\n",
       "      <td>0.2</td>\n",
       "      <td>TT</td>\n",
       "      <td>12.619643</td>\n",
       "    </tr>\n",
       "    <tr>\n",
       "      <th>18</th>\n",
       "      <td>90.0</td>\n",
       "      <td>50.0</td>\n",
       "      <td>0.2</td>\n",
       "      <td>AC</td>\n",
       "      <td>20.673863</td>\n",
       "    </tr>\n",
       "    <tr>\n",
       "      <th>19</th>\n",
       "      <td>90.0</td>\n",
       "      <td>50.0</td>\n",
       "      <td>0.2</td>\n",
       "      <td>TT</td>\n",
       "      <td>15.652118</td>\n",
       "    </tr>\n",
       "    <tr>\n",
       "      <th>20</th>\n",
       "      <td>90.0</td>\n",
       "      <td>70.0</td>\n",
       "      <td>0.2</td>\n",
       "      <td>AC</td>\n",
       "      <td>17.272478</td>\n",
       "    </tr>\n",
       "    <tr>\n",
       "      <th>21</th>\n",
       "      <td>90.0</td>\n",
       "      <td>70.0</td>\n",
       "      <td>0.2</td>\n",
       "      <td>TT</td>\n",
       "      <td>12.114027</td>\n",
       "    </tr>\n",
       "    <tr>\n",
       "      <th>22</th>\n",
       "      <td>90.0</td>\n",
       "      <td>90.0</td>\n",
       "      <td>0.2</td>\n",
       "      <td>AC</td>\n",
       "      <td>20.381274</td>\n",
       "    </tr>\n",
       "    <tr>\n",
       "      <th>23</th>\n",
       "      <td>90.0</td>\n",
       "      <td>90.0</td>\n",
       "      <td>0.2</td>\n",
       "      <td>TT</td>\n",
       "      <td>15.411060</td>\n",
       "    </tr>\n",
       "    <tr>\n",
       "      <th>24</th>\n",
       "      <td>105.0</td>\n",
       "      <td>50.0</td>\n",
       "      <td>0.2</td>\n",
       "      <td>AC</td>\n",
       "      <td>20.694636</td>\n",
       "    </tr>\n",
       "    <tr>\n",
       "      <th>25</th>\n",
       "      <td>105.0</td>\n",
       "      <td>50.0</td>\n",
       "      <td>0.2</td>\n",
       "      <td>TT</td>\n",
       "      <td>15.742281</td>\n",
       "    </tr>\n",
       "    <tr>\n",
       "      <th>26</th>\n",
       "      <td>105.0</td>\n",
       "      <td>70.0</td>\n",
       "      <td>0.2</td>\n",
       "      <td>AC</td>\n",
       "      <td>21.255210</td>\n",
       "    </tr>\n",
       "    <tr>\n",
       "      <th>27</th>\n",
       "      <td>105.0</td>\n",
       "      <td>70.0</td>\n",
       "      <td>0.2</td>\n",
       "      <td>TT</td>\n",
       "      <td>16.308514</td>\n",
       "    </tr>\n",
       "    <tr>\n",
       "      <th>28</th>\n",
       "      <td>105.0</td>\n",
       "      <td>90.0</td>\n",
       "      <td>0.2</td>\n",
       "      <td>AC</td>\n",
       "      <td>23.756733</td>\n",
       "    </tr>\n",
       "    <tr>\n",
       "      <th>29</th>\n",
       "      <td>105.0</td>\n",
       "      <td>90.0</td>\n",
       "      <td>0.2</td>\n",
       "      <td>TT</td>\n",
       "      <td>18.785995</td>\n",
       "    </tr>\n",
       "  </tbody>\n",
       "</table>\n",
       "</div>"
      ],
      "text/plain": [
       "    Prev_Length  Match_Score  Tile_Size Prev_Type  Browse_Time\n",
       "0          45.0         50.0        0.2        AC    22.119528\n",
       "1          45.0         50.0        0.2        TT    17.091101\n",
       "2          45.0         70.0        0.2        AC    18.062620\n",
       "3          45.0         70.0        0.2        TT    13.243832\n",
       "4          45.0         90.0        0.2        AC    18.528308\n",
       "5          45.0         90.0        0.2        TT    13.541089\n",
       "6          60.0         50.0        0.2        AC    22.346298\n",
       "7          60.0         50.0        0.2        TT    17.239253\n",
       "8          60.0         70.0        0.2        AC    17.125488\n",
       "9          60.0         70.0        0.2        TT    11.849249\n",
       "10         60.0         90.0        0.2        AC    17.258491\n",
       "11         60.0         90.0        0.2        TT    12.175213\n",
       "12         75.0         50.0        0.2        AC    21.120803\n",
       "13         75.0         50.0        0.2        TT    16.060363\n",
       "14         75.0         70.0        0.2        AC    15.202460\n",
       "15         75.0         70.0        0.2        TT    10.212925\n",
       "16         75.0         90.0        0.2        AC    17.819933\n",
       "17         75.0         90.0        0.2        TT    12.619643\n",
       "18         90.0         50.0        0.2        AC    20.673863\n",
       "19         90.0         50.0        0.2        TT    15.652118\n",
       "20         90.0         70.0        0.2        AC    17.272478\n",
       "21         90.0         70.0        0.2        TT    12.114027\n",
       "22         90.0         90.0        0.2        AC    20.381274\n",
       "23         90.0         90.0        0.2        TT    15.411060\n",
       "24        105.0         50.0        0.2        AC    20.694636\n",
       "25        105.0         50.0        0.2        TT    15.742281\n",
       "26        105.0         70.0        0.2        AC    21.255210\n",
       "27        105.0         70.0        0.2        TT    16.308514\n",
       "28        105.0         90.0        0.2        AC    23.756733\n",
       "29        105.0         90.0        0.2        TT    18.785995"
      ]
     },
     "execution_count": 141,
     "metadata": {},
     "output_type": "execute_result"
    }
   ],
   "source": [
    "mean_browse_time = new_data.groupby(['Prev_Length', 'Match_Score', 'Tile_Size', 'Prev_Type'])['Browse_Time'].mean().reset_index()\n",
    "mean_browse_time"
   ]
  },
  {
   "cell_type": "code",
   "execution_count": 142,
   "metadata": {},
   "outputs": [
    {
     "data": {
      "image/png": "[encoded data removed]",
      "text/plain": [
       "<Figure size 1000x500 with 2 Axes>"
      ]
     },
     "metadata": {},
     "output_type": "display_data"
    }
   ],
   "source": [
    "# Filter data by Preview Type\n",
    "ac_data = new_data[new_data['Prev_Type'] == 'AC']['Browse_Time']\n",
    "tt_data = new_data[new_data['Prev_Type'] == 'TT']['Browse_Time']\n",
    "\n",
    "# Plot histograms\n",
    "plt.figure(figsize=(10, 5))\n",
    "\n",
    "# Histogram for AC\n",
    "plt.subplot(1, 2, 1)  # 1 row, 2 columns, 1st subplot\n",
    "plt.hist(ac_data, color='blue', alpha=0.7, label='AC')\n",
    "plt.axvline(ac_data.mean(), color='red', linestyle='dashed', linewidth=1)\n",
    "plt.title('AC Preview Type')\n",
    "plt.xlabel('Browse Time')\n",
    "plt.ylabel('Frequency')\n",
    "plt.legend()\n",
    "\n",
    "# Histogram for TT\n",
    "plt.subplot(1, 2, 2)  # 1 row, 2 columns, 2nd subplot\n",
    "plt.hist(tt_data, color='green', alpha=0.7, label='TT')\n",
    "plt.axvline(tt_data.mean(), color='red', linestyle='dashed', linewidth=1)\n",
    "plt.title('TT Preview Type')\n",
    "plt.xlabel('Browse Time')\n",
    "plt.legend()\n",
    "\n",
    "plt.tight_layout()\n",
    "plt.show()"
   ]
  },
  {
   "cell_type": "code",
   "execution_count": 143,
   "metadata": {},
   "outputs": [
    {
     "data": {
      "text/html": [
       "<table class=\"simpletable\">\n",
       "<caption>OLS Regression Results</caption>\n",
       "<tr>\n",
       "  <th>Dep. Variable:</th>       <td>Browse_Time</td>   <th>  R-squared:         </th> <td>   0.195</td>\n",
       "</tr>\n",
       "<tr>\n",
       "  <th>Model:</th>                   <td>OLS</td>       <th>  Adj. R-squared:    </th> <td>   0.191</td>\n",
       "</tr>\n",
       "<tr>\n",
       "  <th>Method:</th>             <td>Least Squares</td>  <th>  F-statistic:       </th> <td>   55.06</td>\n",
       "</tr>\n",
       "<tr>\n",
       "  <th>Date:</th>             <td>Fri, 15 Mar 2024</td> <th>  Prob (F-statistic):</th> <td>1.03e-70</td>\n",
       "</tr>\n",
       "<tr>\n",
       "  <th>Time:</th>                 <td>19:30:46</td>     <th>  Log-Likelihood:    </th> <td> -3829.7</td>\n",
       "</tr>\n",
       "<tr>\n",
       "  <th>No. Observations:</th>      <td>  1600</td>      <th>  AIC:               </th> <td>   7675.</td>\n",
       "</tr>\n",
       "<tr>\n",
       "  <th>Df Residuals:</th>          <td>  1592</td>      <th>  BIC:               </th> <td>   7718.</td>\n",
       "</tr>\n",
       "<tr>\n",
       "  <th>Df Model:</th>              <td>     7</td>      <th>                     </th>     <td> </td>   \n",
       "</tr>\n",
       "<tr>\n",
       "  <th>Covariance Type:</th>      <td>nonrobust</td>    <th>                     </th>     <td> </td>   \n",
       "</tr>\n",
       "</table>\n",
       "<table class=\"simpletable\">\n",
       "<tr>\n",
       "                  <td></td>                     <th>coef</th>     <th>std err</th>      <th>t</th>      <th>P>|t|</th>  <th>[0.025</th>    <th>0.975]</th>  \n",
       "</tr>\n",
       "<tr>\n",
       "  <th>Intercept</th>                         <td>   22.2980</td> <td>    0.329</td> <td>   67.747</td> <td> 0.000</td> <td>   21.652</td> <td>   22.944</td>\n",
       "</tr>\n",
       "<tr>\n",
       "  <th>Prev_Length</th>                       <td>    0.0009</td> <td>    0.004</td> <td>    0.246</td> <td> 0.806</td> <td>   -0.006</td> <td>    0.008</td>\n",
       "</tr>\n",
       "<tr>\n",
       "  <th>Match_Score</th>                       <td>   -0.0380</td> <td>    0.005</td> <td>   -8.172</td> <td> 0.000</td> <td>   -0.047</td> <td>   -0.029</td>\n",
       "</tr>\n",
       "<tr>\n",
       "  <th>Prev_Length:Match_Score</th>           <td>    0.0003</td> <td> 5.32e-05</td> <td>    6.038</td> <td> 0.000</td> <td>    0.000</td> <td>    0.000</td>\n",
       "</tr>\n",
       "<tr>\n",
       "  <th>Tile_Size</th>                         <td>    0.7139</td> <td>    0.913</td> <td>    0.782</td> <td> 0.434</td> <td>   -1.077</td> <td>    2.504</td>\n",
       "</tr>\n",
       "<tr>\n",
       "  <th>Prev_Length:Tile_Size</th>             <td>   -0.0060</td> <td>    0.010</td> <td>   -0.578</td> <td> 0.563</td> <td>   -0.027</td> <td>    0.014</td>\n",
       "</tr>\n",
       "<tr>\n",
       "  <th>Match_Score:Tile_Size</th>             <td>   -0.0090</td> <td>    0.013</td> <td>   -0.694</td> <td> 0.488</td> <td>   -0.034</td> <td>    0.016</td>\n",
       "</tr>\n",
       "<tr>\n",
       "  <th>Prev_Length:Match_Score:Tile_Size</th> <td> 8.168e-05</td> <td>    0.000</td> <td>    0.553</td> <td> 0.580</td> <td>   -0.000</td> <td>    0.000</td>\n",
       "</tr>\n",
       "</table>\n",
       "<table class=\"simpletable\">\n",
       "<tr>\n",
       "  <th>Omnibus:</th>       <td>10869.178</td> <th>  Durbin-Watson:     </th> <td>   2.000</td>\n",
       "</tr>\n",
       "<tr>\n",
       "  <th>Prob(Omnibus):</th>  <td> 0.000</td>   <th>  Jarque-Bera (JB):  </th> <td> 149.182</td>\n",
       "</tr>\n",
       "<tr>\n",
       "  <th>Skew:</th>           <td>-0.008</td>   <th>  Prob(JB):          </th> <td>4.03e-33</td>\n",
       "</tr>\n",
       "<tr>\n",
       "  <th>Kurtosis:</th>       <td> 1.504</td>   <th>  Cond. No.          </th> <td>9.30e+04</td>\n",
       "</tr>\n",
       "</table><br/><br/>Notes:<br/>[1] Standard Errors assume that the covariance matrix of the errors is correctly specified.<br/>[2] The condition number is large, 9.3e+04. This might indicate that there are<br/>strong multicollinearity or other numerical problems."
      ],
      "text/latex": [
       "\\begin{center}\n",
       "\\begin{tabular}{lclc}\n",
       "\\toprule\n",
       "\\textbf{Dep. Variable:}                       &   Browse\\_Time   & \\textbf{  R-squared:         } &     0.195   \\\\\n",
       "\\textbf{Model:}                               &       OLS        & \\textbf{  Adj. R-squared:    } &     0.191   \\\\\n",
       "\\textbf{Method:}                              &  Least Squares   & \\textbf{  F-statistic:       } &     55.06   \\\\\n",
       "\\textbf{Date:}                                & Fri, 15 Mar 2024 & \\textbf{  Prob (F-statistic):} &  1.03e-70   \\\\\n",
       "\\textbf{Time:}                                &     19:30:46     & \\textbf{  Log-Likelihood:    } &   -3829.7   \\\\\n",
       "\\textbf{No. Observations:}                    &        1600      & \\textbf{  AIC:               } &     7675.   \\\\\n",
       "\\textbf{Df Residuals:}                        &        1592      & \\textbf{  BIC:               } &     7718.   \\\\\n",
       "\\textbf{Df Model:}                            &           7      & \\textbf{                     } &             \\\\\n",
       "\\textbf{Covariance Type:}                     &    nonrobust     & \\textbf{                     } &             \\\\\n",
       "\\bottomrule\n",
       "\\end{tabular}\n",
       "\\begin{tabular}{lcccccc}\n",
       "                                              & \\textbf{coef} & \\textbf{std err} & \\textbf{t} & \\textbf{P$> |$t$|$} & \\textbf{[0.025} & \\textbf{0.975]}  \\\\\n",
       "\\midrule\n",
       "\\textbf{Intercept}                            &      22.2980  &        0.329     &    67.747  &         0.000        &       21.652    &       22.944     \\\\\n",
       "\\textbf{Prev\\_Length}                         &       0.0009  &        0.004     &     0.246  &         0.806        &       -0.006    &        0.008     \\\\\n",
       "\\textbf{Match\\_Score}                         &      -0.0380  &        0.005     &    -8.172  &         0.000        &       -0.047    &       -0.029     \\\\\n",
       "\\textbf{Prev\\_Length:Match\\_Score}            &       0.0003  &     5.32e-05     &     6.038  &         0.000        &        0.000    &        0.000     \\\\\n",
       "\\textbf{Tile\\_Size}                           &       0.7139  &        0.913     &     0.782  &         0.434        &       -1.077    &        2.504     \\\\\n",
       "\\textbf{Prev\\_Length:Tile\\_Size}              &      -0.0060  &        0.010     &    -0.578  &         0.563        &       -0.027    &        0.014     \\\\\n",
       "\\textbf{Match\\_Score:Tile\\_Size}              &      -0.0090  &        0.013     &    -0.694  &         0.488        &       -0.034    &        0.016     \\\\\n",
       "\\textbf{Prev\\_Length:Match\\_Score:Tile\\_Size} &    8.168e-05  &        0.000     &     0.553  &         0.580        &       -0.000    &        0.000     \\\\\n",
       "\\bottomrule\n",
       "\\end{tabular}\n",
       "\\begin{tabular}{lclc}\n",
       "\\textbf{Omnibus:}       & 10869.178 & \\textbf{  Durbin-Watson:     } &    2.000  \\\\\n",
       "\\textbf{Prob(Omnibus):} &    0.000  & \\textbf{  Jarque-Bera (JB):  } &  149.182  \\\\\n",
       "\\textbf{Skew:}          &   -0.008  & \\textbf{  Prob(JB):          } & 4.03e-33  \\\\\n",
       "\\textbf{Kurtosis:}      &    1.504  & \\textbf{  Cond. No.          } & 9.30e+04  \\\\\n",
       "\\bottomrule\n",
       "\\end{tabular}\n",
       "%\\caption{OLS Regression Results}\n",
       "\\end{center}\n",
       "\n",
       "Notes: \\newline\n",
       " [1] Standard Errors assume that the covariance matrix of the errors is correctly specified. \\newline\n",
       " [2] The condition number is large, 9.3e+04. This might indicate that there are \\newline\n",
       " strong multicollinearity or other numerical problems."
      ],
      "text/plain": [
       "<class 'statsmodels.iolib.summary.Summary'>\n",
       "\"\"\"\n",
       "                            OLS Regression Results                            \n",
       "==============================================================================\n",
       "Dep. Variable:            Browse_Time   R-squared:                       0.195\n",
       "Model:                            OLS   Adj. R-squared:                  0.191\n",
       "Method:                 Least Squares   F-statistic:                     55.06\n",
       "Date:                Fri, 15 Mar 2024   Prob (F-statistic):           1.03e-70\n",
       "Time:                        19:30:46   Log-Likelihood:                -3829.7\n",
       "No. Observations:                1600   AIC:                             7675.\n",
       "Df Residuals:                    1592   BIC:                             7718.\n",
       "Df Model:                           7                                         \n",
       "Covariance Type:            nonrobust                                         \n",
       "=====================================================================================================\n",
       "                                        coef    std err          t      P>|t|      [0.025      0.975]\n",
       "-----------------------------------------------------------------------------------------------------\n",
       "Intercept                            22.2980      0.329     67.747      0.000      21.652      22.944\n",
       "Prev_Length                           0.0009      0.004      0.246      0.806      -0.006       0.008\n",
       "Match_Score                          -0.0380      0.005     -8.172      0.000      -0.047      -0.029\n",
       "Prev_Length:Match_Score               0.0003   5.32e-05      6.038      0.000       0.000       0.000\n",
       "Tile_Size                             0.7139      0.913      0.782      0.434      -1.077       2.504\n",
       "Prev_Length:Tile_Size                -0.0060      0.010     -0.578      0.563      -0.027       0.014\n",
       "Match_Score:Tile_Size                -0.0090      0.013     -0.694      0.488      -0.034       0.016\n",
       "Prev_Length:Match_Score:Tile_Size  8.168e-05      0.000      0.553      0.580      -0.000       0.000\n",
       "==============================================================================\n",
       "Omnibus:                    10869.178   Durbin-Watson:                   2.000\n",
       "Prob(Omnibus):                  0.000   Jarque-Bera (JB):              149.182\n",
       "Skew:                          -0.008   Prob(JB):                     4.03e-33\n",
       "Kurtosis:                       1.504   Cond. No.                     9.30e+04\n",
       "==============================================================================\n",
       "\n",
       "Notes:\n",
       "[1] Standard Errors assume that the covariance matrix of the errors is correctly specified.\n",
       "[2] The condition number is large, 9.3e+04. This might indicate that there are\n",
       "strong multicollinearity or other numerical problems.\n",
       "\"\"\""
      ]
     },
     "execution_count": 143,
     "metadata": {},
     "output_type": "execute_result"
    }
   ],
   "source": [
    "filtered_df = new_data[(new_data['Prev_Type'] == 'TT')]\n",
    "\n",
    "model = smf.ols('Browse_Time ~ Prev_Length * Match_Score * Tile_Size', data=two_k).fit()\n",
    "model.summary()"
   ]
  },
  {
   "cell_type": "code",
   "execution_count": 144,
   "metadata": {},
   "outputs": [
    {
     "data": {
      "image/png": "[encoded data removed]",
      "text/plain": [
       "<Figure size 800x600 with 1 Axes>"
      ]
     },
     "metadata": {},
     "output_type": "display_data"
    }
   ],
   "source": [
    "# Filter the data based on your conditions\n",
    "filtered_df = new_data[(new_data['Prev_Type'] == 'TT')]\n",
    "\n",
    "plt.figure(figsize=(8, 6))\n",
    "plt.hist(filtered_df['Browse_Time'], bins=10, color='blue', edgecolor='black')\n",
    "plt.xlabel('Browsing Time')\n",
    "plt.ylabel('Frequency')\n",
    "plt.title('Histogram of Browsing Time')\n",
    "plt.show()"
   ]
  },
  {
   "cell_type": "code",
   "execution_count": 145,
   "metadata": {},
   "outputs": [
    {
     "data": {
      "text/html": [
       "<div>\n",
       "<style scoped>\n",
       "    .dataframe tbody tr th:only-of-type {\n",
       "        vertical-align: middle;\n",
       "    }\n",
       "\n",
       "    .dataframe tbody tr th {\n",
       "        vertical-align: top;\n",
       "    }\n",
       "\n",
       "    .dataframe thead th {\n",
       "        text-align: right;\n",
       "    }\n",
       "</style>\n",
       "<table border=\"1\" class=\"dataframe\">\n",
       "  <thead>\n",
       "    <tr style=\"text-align: right;\">\n",
       "      <th></th>\n",
       "      <th>Prev_Length</th>\n",
       "      <th>Match_Score</th>\n",
       "      <th>Tile_Size</th>\n",
       "      <th>Prev_Type</th>\n",
       "      <th>Browse_Time</th>\n",
       "    </tr>\n",
       "  </thead>\n",
       "  <tbody>\n",
       "    <tr>\n",
       "      <th>0</th>\n",
       "      <td>45.0</td>\n",
       "      <td>50.0</td>\n",
       "      <td>0.2</td>\n",
       "      <td>AC</td>\n",
       "      <td>22.119528</td>\n",
       "    </tr>\n",
       "    <tr>\n",
       "      <th>1</th>\n",
       "      <td>45.0</td>\n",
       "      <td>50.0</td>\n",
       "      <td>0.2</td>\n",
       "      <td>TT</td>\n",
       "      <td>17.091101</td>\n",
       "    </tr>\n",
       "    <tr>\n",
       "      <th>2</th>\n",
       "      <td>45.0</td>\n",
       "      <td>70.0</td>\n",
       "      <td>0.2</td>\n",
       "      <td>AC</td>\n",
       "      <td>18.062620</td>\n",
       "    </tr>\n",
       "    <tr>\n",
       "      <th>3</th>\n",
       "      <td>45.0</td>\n",
       "      <td>70.0</td>\n",
       "      <td>0.2</td>\n",
       "      <td>TT</td>\n",
       "      <td>13.243832</td>\n",
       "    </tr>\n",
       "    <tr>\n",
       "      <th>4</th>\n",
       "      <td>45.0</td>\n",
       "      <td>90.0</td>\n",
       "      <td>0.2</td>\n",
       "      <td>AC</td>\n",
       "      <td>18.528308</td>\n",
       "    </tr>\n",
       "    <tr>\n",
       "      <th>5</th>\n",
       "      <td>45.0</td>\n",
       "      <td>90.0</td>\n",
       "      <td>0.2</td>\n",
       "      <td>TT</td>\n",
       "      <td>13.541089</td>\n",
       "    </tr>\n",
       "    <tr>\n",
       "      <th>6</th>\n",
       "      <td>60.0</td>\n",
       "      <td>50.0</td>\n",
       "      <td>0.2</td>\n",
       "      <td>AC</td>\n",
       "      <td>22.346298</td>\n",
       "    </tr>\n",
       "    <tr>\n",
       "      <th>7</th>\n",
       "      <td>60.0</td>\n",
       "      <td>50.0</td>\n",
       "      <td>0.2</td>\n",
       "      <td>TT</td>\n",
       "      <td>17.239253</td>\n",
       "    </tr>\n",
       "    <tr>\n",
       "      <th>8</th>\n",
       "      <td>60.0</td>\n",
       "      <td>70.0</td>\n",
       "      <td>0.2</td>\n",
       "      <td>AC</td>\n",
       "      <td>17.125488</td>\n",
       "    </tr>\n",
       "    <tr>\n",
       "      <th>9</th>\n",
       "      <td>60.0</td>\n",
       "      <td>70.0</td>\n",
       "      <td>0.2</td>\n",
       "      <td>TT</td>\n",
       "      <td>11.849249</td>\n",
       "    </tr>\n",
       "    <tr>\n",
       "      <th>10</th>\n",
       "      <td>60.0</td>\n",
       "      <td>90.0</td>\n",
       "      <td>0.2</td>\n",
       "      <td>AC</td>\n",
       "      <td>17.258491</td>\n",
       "    </tr>\n",
       "    <tr>\n",
       "      <th>11</th>\n",
       "      <td>60.0</td>\n",
       "      <td>90.0</td>\n",
       "      <td>0.2</td>\n",
       "      <td>TT</td>\n",
       "      <td>12.175213</td>\n",
       "    </tr>\n",
       "    <tr>\n",
       "      <th>12</th>\n",
       "      <td>75.0</td>\n",
       "      <td>50.0</td>\n",
       "      <td>0.2</td>\n",
       "      <td>AC</td>\n",
       "      <td>21.120803</td>\n",
       "    </tr>\n",
       "    <tr>\n",
       "      <th>13</th>\n",
       "      <td>75.0</td>\n",
       "      <td>50.0</td>\n",
       "      <td>0.2</td>\n",
       "      <td>TT</td>\n",
       "      <td>16.060363</td>\n",
       "    </tr>\n",
       "    <tr>\n",
       "      <th>14</th>\n",
       "      <td>75.0</td>\n",
       "      <td>70.0</td>\n",
       "      <td>0.2</td>\n",
       "      <td>AC</td>\n",
       "      <td>15.202460</td>\n",
       "    </tr>\n",
       "    <tr>\n",
       "      <th>15</th>\n",
       "      <td>75.0</td>\n",
       "      <td>70.0</td>\n",
       "      <td>0.2</td>\n",
       "      <td>TT</td>\n",
       "      <td>10.212925</td>\n",
       "    </tr>\n",
       "    <tr>\n",
       "      <th>16</th>\n",
       "      <td>75.0</td>\n",
       "      <td>90.0</td>\n",
       "      <td>0.2</td>\n",
       "      <td>AC</td>\n",
       "      <td>17.819933</td>\n",
       "    </tr>\n",
       "    <tr>\n",
       "      <th>17</th>\n",
       "      <td>75.0</td>\n",
       "      <td>90.0</td>\n",
       "      <td>0.2</td>\n",
       "      <td>TT</td>\n",
       "      <td>12.619643</td>\n",
       "    </tr>\n",
       "    <tr>\n",
       "      <th>18</th>\n",
       "      <td>90.0</td>\n",
       "      <td>50.0</td>\n",
       "      <td>0.2</td>\n",
       "      <td>AC</td>\n",
       "      <td>20.673863</td>\n",
       "    </tr>\n",
       "    <tr>\n",
       "      <th>19</th>\n",
       "      <td>90.0</td>\n",
       "      <td>50.0</td>\n",
       "      <td>0.2</td>\n",
       "      <td>TT</td>\n",
       "      <td>15.652118</td>\n",
       "    </tr>\n",
       "    <tr>\n",
       "      <th>20</th>\n",
       "      <td>90.0</td>\n",
       "      <td>70.0</td>\n",
       "      <td>0.2</td>\n",
       "      <td>AC</td>\n",
       "      <td>17.272478</td>\n",
       "    </tr>\n",
       "    <tr>\n",
       "      <th>21</th>\n",
       "      <td>90.0</td>\n",
       "      <td>70.0</td>\n",
       "      <td>0.2</td>\n",
       "      <td>TT</td>\n",
       "      <td>12.114027</td>\n",
       "    </tr>\n",
       "    <tr>\n",
       "      <th>22</th>\n",
       "      <td>90.0</td>\n",
       "      <td>90.0</td>\n",
       "      <td>0.2</td>\n",
       "      <td>AC</td>\n",
       "      <td>20.381274</td>\n",
       "    </tr>\n",
       "    <tr>\n",
       "      <th>23</th>\n",
       "      <td>90.0</td>\n",
       "      <td>90.0</td>\n",
       "      <td>0.2</td>\n",
       "      <td>TT</td>\n",
       "      <td>15.411060</td>\n",
       "    </tr>\n",
       "    <tr>\n",
       "      <th>24</th>\n",
       "      <td>105.0</td>\n",
       "      <td>50.0</td>\n",
       "      <td>0.2</td>\n",
       "      <td>AC</td>\n",
       "      <td>20.694636</td>\n",
       "    </tr>\n",
       "    <tr>\n",
       "      <th>25</th>\n",
       "      <td>105.0</td>\n",
       "      <td>50.0</td>\n",
       "      <td>0.2</td>\n",
       "      <td>TT</td>\n",
       "      <td>15.742281</td>\n",
       "    </tr>\n",
       "    <tr>\n",
       "      <th>26</th>\n",
       "      <td>105.0</td>\n",
       "      <td>70.0</td>\n",
       "      <td>0.2</td>\n",
       "      <td>AC</td>\n",
       "      <td>21.255210</td>\n",
       "    </tr>\n",
       "    <tr>\n",
       "      <th>27</th>\n",
       "      <td>105.0</td>\n",
       "      <td>70.0</td>\n",
       "      <td>0.2</td>\n",
       "      <td>TT</td>\n",
       "      <td>16.308514</td>\n",
       "    </tr>\n",
       "    <tr>\n",
       "      <th>28</th>\n",
       "      <td>105.0</td>\n",
       "      <td>90.0</td>\n",
       "      <td>0.2</td>\n",
       "      <td>AC</td>\n",
       "      <td>23.756733</td>\n",
       "    </tr>\n",
       "    <tr>\n",
       "      <th>29</th>\n",
       "      <td>105.0</td>\n",
       "      <td>90.0</td>\n",
       "      <td>0.2</td>\n",
       "      <td>TT</td>\n",
       "      <td>18.785995</td>\n",
       "    </tr>\n",
       "  </tbody>\n",
       "</table>\n",
       "</div>"
      ],
      "text/plain": [
       "    Prev_Length  Match_Score  Tile_Size Prev_Type  Browse_Time\n",
       "0          45.0         50.0        0.2        AC    22.119528\n",
       "1          45.0         50.0        0.2        TT    17.091101\n",
       "2          45.0         70.0        0.2        AC    18.062620\n",
       "3          45.0         70.0        0.2        TT    13.243832\n",
       "4          45.0         90.0        0.2        AC    18.528308\n",
       "5          45.0         90.0        0.2        TT    13.541089\n",
       "6          60.0         50.0        0.2        AC    22.346298\n",
       "7          60.0         50.0        0.2        TT    17.239253\n",
       "8          60.0         70.0        0.2        AC    17.125488\n",
       "9          60.0         70.0        0.2        TT    11.849249\n",
       "10         60.0         90.0        0.2        AC    17.258491\n",
       "11         60.0         90.0        0.2        TT    12.175213\n",
       "12         75.0         50.0        0.2        AC    21.120803\n",
       "13         75.0         50.0        0.2        TT    16.060363\n",
       "14         75.0         70.0        0.2        AC    15.202460\n",
       "15         75.0         70.0        0.2        TT    10.212925\n",
       "16         75.0         90.0        0.2        AC    17.819933\n",
       "17         75.0         90.0        0.2        TT    12.619643\n",
       "18         90.0         50.0        0.2        AC    20.673863\n",
       "19         90.0         50.0        0.2        TT    15.652118\n",
       "20         90.0         70.0        0.2        AC    17.272478\n",
       "21         90.0         70.0        0.2        TT    12.114027\n",
       "22         90.0         90.0        0.2        AC    20.381274\n",
       "23         90.0         90.0        0.2        TT    15.411060\n",
       "24        105.0         50.0        0.2        AC    20.694636\n",
       "25        105.0         50.0        0.2        TT    15.742281\n",
       "26        105.0         70.0        0.2        AC    21.255210\n",
       "27        105.0         70.0        0.2        TT    16.308514\n",
       "28        105.0         90.0        0.2        AC    23.756733\n",
       "29        105.0         90.0        0.2        TT    18.785995"
      ]
     },
     "execution_count": 145,
     "metadata": {},
     "output_type": "execute_result"
    }
   ],
   "source": [
    "mean_browse_time = new_data.groupby(['Prev_Length', 'Match_Score', 'Tile_Size', 'Prev_Type'])['Browse_Time'].mean().reset_index()\n",
    "mean_browse_time"
   ]
  },
  {
   "cell_type": "code",
   "execution_count": 146,
   "metadata": {},
   "outputs": [
    {
     "data": {
      "text/plain": [
       "10.212924724616537"
      ]
     },
     "execution_count": 146,
     "metadata": {},
     "output_type": "execute_result"
    }
   ],
   "source": [
    "min(np.array(mean_browse_time['Browse_Time']))"
   ]
  },
  {
   "cell_type": "code",
   "execution_count": 147,
   "metadata": {},
   "outputs": [
    {
     "name": "stdout",
     "output_type": "stream",
     "text": [
      "<class 'pandas.core.frame.DataFrame'>\n",
      "RangeIndex: 3300 entries, 0 to 3299\n",
      "Data columns (total 5 columns):\n",
      " #   Column       Non-Null Count  Dtype   \n",
      "---  ------       --------------  -----   \n",
      " 0   Prev_Length  3300 non-null   float64 \n",
      " 1   Match_Score  3300 non-null   float64 \n",
      " 2   Tile_Size    3300 non-null   float64 \n",
      " 3   Prev_Type    3300 non-null   category\n",
      " 4   Browse_Time  3300 non-null   float64 \n",
      "dtypes: category(1), float64(4)\n",
      "memory usage: 106.6 KB\n"
     ]
    }
   ],
   "source": [
    "fourth_run = pd.read_csv('fourthrun.csv')\n",
    "fourth_run.rename(columns=lambda x: x.replace('.', '_'), inplace=True)\n",
    "fourth_run['Prev_Length'] = fourth_run['Prev_Length'].astype(float)\n",
    "fourth_run['Match_Score'] = fourth_run['Match_Score'].astype(float)\n",
    "fourth_run['Tile_Size'] = fourth_run['Tile_Size'].astype(float)\n",
    "fourth_run['Prev_Type'] = fourth_run['Prev_Type'].astype('category')\n",
    "\n",
    "fourth_run.info()"
   ]
  },
  {
   "cell_type": "code",
   "execution_count": 148,
   "metadata": {},
   "outputs": [
    {
     "data": {
      "image/png": "[encoded data removed]",
      "text/plain": [
       "<Figure size 2000x500 with 3 Axes>"
      ]
     },
     "metadata": {},
     "output_type": "display_data"
    }
   ],
   "source": [
    "# Create subplots\n",
    "fig, axs = plt.subplots(1, 3, figsize=(20, 5))  # 1 row, 3 columns\n",
    "\n",
    "# Bar plot for Main Effect of Prev_Length\n",
    "prev_length_means = fourth_run.groupby('Prev_Length')['Browse_Time'].mean()\n",
    "axs[0].bar(prev_length_means.index, prev_length_means.values, color='skyblue')\n",
    "axs[0].set_title('Main Effect of Prev_Length')\n",
    "axs[0].set_xlabel('Prev_Length')\n",
    "axs[0].set_ylabel('Browse_Time')\n",
    "\n",
    "# Bar plot for Main Effect of Match_Score\n",
    "match_score_means = fourth_run.groupby('Match_Score')['Browse_Time'].mean()\n",
    "axs[1].bar(match_score_means.index, match_score_means.values, color='orange')\n",
    "axs[1].set_title('Main Effect of Match_Score')\n",
    "axs[1].set_xlabel('Match_Score')\n",
    "\n",
    "# Line plot for Interaction Effect of Prev_Length and Match_Score\n",
    "# Calculate the means for each combination of Prev_Length and Match_Score for the interaction effect\n",
    "interaction_means = fourth_run.groupby(['Prev_Length', 'Match_Score'])['Browse_Time'].mean().unstack()\n",
    "\n",
    "# Plot a line for each Match_Score\n",
    "for match_score in interaction_means.columns:\n",
    "    axs[2].plot(interaction_means.index, interaction_means[match_score], marker='o', label=f'Match Score {match_score}')\n",
    "\n",
    "axs[2].set_title('Interaction Effect of Prev_Length and Match_Score')\n",
    "axs[2].set_xlabel('Prev_Length')\n",
    "axs[2].set_ylabel('Browse_Time')\n",
    "axs[2].legend(title='Match Score', bbox_to_anchor=(1.05, 1), loc='upper left')\n",
    "\n",
    "plt.tight_layout()\n",
    "plt.show()\n",
    "\n"
   ]
  },
  {
   "cell_type": "code",
   "execution_count": 149,
   "metadata": {},
   "outputs": [
    {
     "name": "stdout",
     "output_type": "stream",
     "text": [
      "<class 'pandas.core.frame.DataFrame'>\n",
      "RangeIndex: 1500 entries, 0 to 1499\n",
      "Data columns (total 5 columns):\n",
      " #   Column       Non-Null Count  Dtype   \n",
      "---  ------       --------------  -----   \n",
      " 0   Prev_Length  1500 non-null   float64 \n",
      " 1   Match_Score  1500 non-null   float64 \n",
      " 2   Tile_Size    1500 non-null   float64 \n",
      " 3   Prev_Type    1500 non-null   category\n",
      " 4   Browse_Time  1500 non-null   float64 \n",
      "dtypes: category(1), float64(4)\n",
      "memory usage: 48.6 KB\n"
     ]
    }
   ],
   "source": [
    "last_run = pd.read_csv('lastrun.csv')\n",
    "last_run.rename(columns=lambda x: x.replace('.', '_'), inplace=True)\n",
    "last_run['Prev_Length'] = last_run['Prev_Length'].astype(float)\n",
    "last_run['Match_Score'] = last_run['Match_Score'].astype(float)\n",
    "last_run['Tile_Size'] = last_run['Tile_Size'].astype(float)\n",
    "last_run['Prev_Type'] = last_run['Prev_Type'].astype('category')\n",
    "\n",
    "last_run.info()"
   ]
  },
  {
   "cell_type": "markdown",
   "metadata": {},
   "source": [
    "# Minimum Browsing Time with 95% C.I."
   ]
  },
  {
   "cell_type": "code",
   "execution_count": 150,
   "metadata": {},
   "outputs": [
    {
     "name": "stdout",
     "output_type": "stream",
     "text": [
      "95% Confidence Interval: (9.781757337622897, 10.136518125286782)\n"
     ]
    }
   ],
   "source": [
    "# Filter the data based on your conditions\n",
    "filtered_df = last_run[(last_run['Prev_Type'] == 'TT') & \n",
    "                 (last_run['Prev_Length'] == 75) & \n",
    "                 (last_run['Match_Score'] == 77)]\n",
    "\n",
    "# Calculate the mean and standard error of the mean\n",
    "mean = filtered_df['Browse_Time'].mean()\n",
    "sem = stats.sem(filtered_df['Browse_Time'])\n",
    "\n",
    "# Calculate the 95% confidence interval\n",
    "confidence_interval = stats.t.interval(0.95, len(filtered_df)-1, loc=mean, scale=sem)\n",
    "\n",
    "print(f\"95% Confidence Interval: {confidence_interval}\")"
   ]
  },
  {
   "cell_type": "markdown",
   "metadata": {},
   "source": [
    "# Student's T-test Match Score 77 vs 78"
   ]
  },
  {
   "cell_type": "code",
   "execution_count": 151,
   "metadata": {},
   "outputs": [
    {
     "name": "stdout",
     "output_type": "stream",
     "text": [
      "F-test 0.04301616707597462 0.8359079890453489\n",
      "T-test -2.147238771964465 0.03299576820470852\n"
     ]
    }
   ],
   "source": [
    "browsing_times_ms_77 = last_run[(last_run['Match_Score'] == 77) & (last_run['Prev_Type'] == 'TT') & (last_run['Tile_Size'] == 0.2) & (last_run['Prev_Length'] == 75)]['Browse_Time']\n",
    "browsing_times_ms_78 = last_run[(last_run['Match_Score'] == 78) & (last_run['Prev_Type'] == 'TT') & (last_run['Tile_Size'] == 0.2) & (last_run['Prev_Length'] == 75)]['Browse_Time']\n",
    "\n",
    "# Perform Levene's test to compare the variances of the two samples\n",
    "f_stat_real, p_value_var_real = stats.levene(browsing_times_ms_77, browsing_times_ms_78)\n",
    "\n",
    "# Perform a t-test to compare the mean browsing times\n",
    "t_stat_real, p_value_real = stats.ttest_ind(browsing_times_ms_77, browsing_times_ms_78, equal_var=False)\n",
    "\n",
    "print('F-test', f_stat_real, p_value_var_real)\n",
    "print('T-test', t_stat_real, p_value_real)"
   ]
  },
  {
   "cell_type": "markdown",
   "metadata": {},
   "source": [
    "# Student's T-test Match Score 77 vs 76"
   ]
  },
  {
   "cell_type": "code",
   "execution_count": 152,
   "metadata": {},
   "outputs": [
    {
     "name": "stdout",
     "output_type": "stream",
     "text": [
      "F-test 1.6175511705471668 0.2049253720042281\n",
      "T-test -1.5473944582299002 0.12337300013876588\n"
     ]
    }
   ],
   "source": [
    "browsing_times_ms_77 = last_run[(last_run['Match_Score'] == 77) & (last_run['Prev_Type'] == 'TT') & (last_run['Tile_Size'] == 0.2) & (last_run['Prev_Length'] == 75)]['Browse_Time']\n",
    "browsing_times_ms_76 = last_run[(last_run['Match_Score'] == 76) & (last_run['Prev_Type'] == 'TT') & (last_run['Tile_Size'] == 0.2) & (last_run['Prev_Length'] == 75)]['Browse_Time']\n",
    "\n",
    "# Perform Levene's test to compare the variances of the two samples\n",
    "f_stat_real, p_value_var_real = stats.levene(browsing_times_ms_77, browsing_times_ms_76)\n",
    "\n",
    "# Perform a t-test to compare the mean browsing times\n",
    "t_stat_real, p_value_real = stats.ttest_ind(browsing_times_ms_77, browsing_times_ms_76, equal_var=False)\n",
    "\n",
    "\n",
    "print('F-test', f_stat_real, p_value_var_real)\n",
    "print('T-test', t_stat_real, p_value_real)"
   ]
  },
  {
   "cell_type": "markdown",
   "metadata": {},
   "source": [
    "# Student's T-test Match Score 77 vs 75"
   ]
  },
  {
   "cell_type": "code",
   "execution_count": 153,
   "metadata": {},
   "outputs": [
    {
     "name": "stdout",
     "output_type": "stream",
     "text": [
      "F-test 2.899707224362187 0.09016484624796811\n",
      "T-test -0.781126433405977 0.43569107831696674\n"
     ]
    }
   ],
   "source": [
    "browsing_times_ms_77 = last_run[(last_run['Match_Score'] == 77) & (last_run['Prev_Type'] == 'TT') & (last_run['Tile_Size'] == 0.2) & (last_run['Prev_Length'] == 75)]['Browse_Time']\n",
    "browsing_times_ms_75 = fourth_run[(fourth_run['Match_Score'] == 75) & (fourth_run['Prev_Type'] == 'TT') & (fourth_run['Tile_Size'] == 0.2) & (fourth_run['Prev_Length'] == 75)]['Browse_Time']\n",
    "\n",
    "# Perform Levene's test to compare the variances of the two samples\n",
    "f_stat_real, p_value_var_real = stats.levene(browsing_times_ms_77, browsing_times_ms_75)\n",
    "\n",
    "# Perform a t-test to compare the mean browsing times\n",
    "t_stat_real, p_value_real = stats.ttest_ind(browsing_times_ms_77, browsing_times_ms_75, equal_var=False)\n",
    "\n",
    "print('F-test', f_stat_real, p_value_var_real)\n",
    "print('T-test', t_stat_real, p_value_real)"
   ]
  },
  {
   "cell_type": "markdown",
   "metadata": {},
   "source": [
    "# Student's T-test Match Score 77 vs 74"
   ]
  },
  {
   "cell_type": "code",
   "execution_count": 154,
   "metadata": {},
   "outputs": [
    {
     "name": "stdout",
     "output_type": "stream",
     "text": [
      "F-test 0.2845280731277533 0.5943468529175773\n",
      "T-test -1.1642784147061755 0.2457268255218536\n"
     ]
    }
   ],
   "source": [
    "browsing_times_ms_77 = last_run[(last_run['Match_Score'] == 77) & (last_run['Prev_Type'] == 'TT') & (last_run['Tile_Size'] == 0.2) & (last_run['Prev_Length'] == 75)]['Browse_Time']\n",
    "browsing_times_ms_74 = fourth_run[(fourth_run['Match_Score'] == 74) & (fourth_run['Prev_Type'] == 'TT') & (fourth_run['Tile_Size'] == 0.2) & (fourth_run['Prev_Length'] == 75)]['Browse_Time']\n",
    "\n",
    "# Perform Levene's test to compare the variances of the two samples\n",
    "f_stat_real, p_value_var_real = stats.levene(browsing_times_ms_77, browsing_times_ms_74)\n",
    "\n",
    "\n",
    "# Perform a t-test to compare the mean browsing times\n",
    "t_stat_real, p_value_real = stats.ttest_ind(browsing_times_ms_77, browsing_times_ms_74, equal_var=False)\n",
    "\n",
    "print('F-test', f_stat_real, p_value_var_real)\n",
    "print('T-test', t_stat_real, p_value_real)"
   ]
  },
  {
   "cell_type": "markdown",
   "metadata": {},
   "source": [
    "# Student's T-test Match Score 77 vs 73"
   ]
  },
  {
   "cell_type": "code",
   "execution_count": 155,
   "metadata": {},
   "outputs": [
    {
     "name": "stdout",
     "output_type": "stream",
     "text": [
      "F-test 0.049222095062119255 0.8246511156086511\n",
      "T-test -0.6331224607799871 0.5273911514075798\n"
     ]
    }
   ],
   "source": [
    "browsing_times_ms_77 = last_run[(last_run['Match_Score'] == 77) & (last_run['Prev_Type'] == 'TT') & (last_run['Tile_Size'] == 0.2) & (last_run['Prev_Length'] == 75)]['Browse_Time']\n",
    "browsing_times_ms_73 = fourth_run[(fourth_run['Match_Score'] == 73) & (fourth_run['Prev_Type'] == 'TT') & (fourth_run['Tile_Size'] == 0.2) & (fourth_run['Prev_Length'] == 75)]['Browse_Time']\n",
    "\n",
    "# Perform Levene's test to compare the variances of the two samples\n",
    "f_stat_real, p_value_var_real = stats.levene(browsing_times_ms_77, browsing_times_ms_73)\n",
    "\n",
    "\n",
    "# Perform a t-test to compare the mean browsing times\n",
    "t_stat_real, p_value_real = stats.ttest_ind(browsing_times_ms_77, browsing_times_ms_73, equal_var=False)\n",
    "\n",
    "print('F-test', f_stat_real, p_value_var_real)\n",
    "print('T-test', t_stat_real, p_value_real)"
   ]
  },
  {
   "cell_type": "markdown",
   "metadata": {},
   "source": [
    "# Student's T-test Match Score 77 vs 72"
   ]
  },
  {
   "cell_type": "code",
   "execution_count": 156,
   "metadata": {},
   "outputs": [
    {
     "name": "stdout",
     "output_type": "stream",
     "text": [
      "F-test 0.00047600853202241943 0.9826154099785219\n",
      "T-test -0.4964837505085912 0.6201048783549192\n"
     ]
    }
   ],
   "source": [
    "browsing_times_ms_77 = last_run[(last_run['Match_Score'] == 77) & (last_run['Prev_Type'] == 'TT') & (last_run['Tile_Size'] == 0.2) & (last_run['Prev_Length'] == 75)]['Browse_Time']\n",
    "browsing_times_ms_72 = fourth_run[(fourth_run['Match_Score'] == 72) & (fourth_run['Prev_Type'] == 'TT') & (fourth_run['Tile_Size'] == 0.2) & (fourth_run['Prev_Length'] == 75)]['Browse_Time']\n",
    "\n",
    "# Perform Levene's test to compare the variances of the two samples\n",
    "f_stat_real, p_value_var_real = stats.levene(browsing_times_ms_77, browsing_times_ms_72)\n",
    "\n",
    "\n",
    "# Perform a t-test to compare the mean browsing times\n",
    "t_stat_real, p_value_real = stats.ttest_ind(browsing_times_ms_77, browsing_times_ms_72, equal_var=False)\n",
    "print('F-test', f_stat_real, p_value_var_real)\n",
    "print('T-test', t_stat_real, p_value_real)"
   ]
  },
  {
   "cell_type": "markdown",
   "metadata": {},
   "source": [
    "# Student's T-test Match Score 77 vs 71"
   ]
  },
  {
   "cell_type": "code",
   "execution_count": 157,
   "metadata": {},
   "outputs": [
    {
     "name": "stdout",
     "output_type": "stream",
     "text": [
      "F-test 0.5753210348281944 0.4490541088275839\n",
      "T-test -2.776563489085714 0.006021060528665946\n"
     ]
    }
   ],
   "source": [
    "browsing_times_ms_77 = last_run[(last_run['Match_Score'] == 77) & (last_run['Prev_Type'] == 'TT') & (last_run['Tile_Size'] == 0.2) & (last_run['Prev_Length'] == 75)]['Browse_Time']\n",
    "browsing_times_ms_71 = fourth_run[(fourth_run['Match_Score'] == 71) & (fourth_run['Prev_Type'] == 'TT') & (fourth_run['Tile_Size'] == 0.2) & (fourth_run['Prev_Length'] == 75)]['Browse_Time']\n",
    "\n",
    "# Perform Levene's test to compare the variances of the two samples\n",
    "f_stat_real, p_value_var_real = stats.levene(browsing_times_ms_77, browsing_times_ms_71)\n",
    "\n",
    "\n",
    "# Perform a t-test to compare the mean browsing times\n",
    "t_stat_real, p_value_real = stats.ttest_ind(browsing_times_ms_77, browsing_times_ms_71, equal_var=False)\n",
    "\n",
    "print('F-test', f_stat_real, p_value_var_real)\n",
    "print('T-test', t_stat_real, p_value_real)"
   ]
  }
 ],
 "metadata": {
  "kernelspec": {
   "display_name": "Python 3 (ipykernel)",
   "language": "python",
   "name": "python3"
  },
  "language_info": {
   "codemirror_mode": {
    "name": "ipython",
    "version": 3
   },
   "file_extension": ".py",
   "mimetype": "text/x-python",
   "name": "python",
   "nbconvert_exporter": "python",
   "pygments_lexer": "ipython3",
   "version": "3.11.0"
  }
 },
 "nbformat": 4,
 "nbformat_minor": 2
}
